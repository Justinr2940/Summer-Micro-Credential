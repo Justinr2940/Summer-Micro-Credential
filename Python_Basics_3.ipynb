{
  "nbformat": 4,
  "nbformat_minor": 0,
  "metadata": {
    "colab": {
      "name": "Python Basics 3.ipynb",
      "provenance": [],
      "collapsed_sections": [
        "gn8Ton1sGo5S",
        "QmexqaWaHLoI",
        "ljNpCgwNLpXd",
        "KOwwMhRpPlZd"
      ],
      "authorship_tag": "ABX9TyNj0xwaAo+qEEgnFXZttvfh",
      "include_colab_link": true
    },
    "kernelspec": {
      "name": "python3",
      "display_name": "Python 3"
    },
    "language_info": {
      "name": "python"
    }
  },
  "cells": [
    {
      "cell_type": "markdown",
      "metadata": {
        "id": "view-in-github",
        "colab_type": "text"
      },
      "source": [
        "<a href=\"https://colab.research.google.com/github/Justinr2940/Summer-Micro-Credential/blob/main/Python_Basics_3.ipynb\" target=\"_parent\"><img src=\"https://colab.research.google.com/assets/colab-badge.svg\" alt=\"Open In Colab\"/></a>"
      ]
    },
    {
      "cell_type": "markdown",
      "source": [
        "#Intro to Python Part III\n"
      ],
      "metadata": {
        "id": "Qd7GrJRfGg2P"
      }
    },
    {
      "cell_type": "markdown",
      "source": [
        "##Conditional & Loops!!"
      ],
      "metadata": {
        "id": "gn8Ton1sGo5S"
      }
    },
    {
      "cell_type": "markdown",
      "source": [
        "###Conditionals\n",
        "###If...ELIF...ELSE Statements!!!"
      ],
      "metadata": {
        "id": "QmexqaWaHLoI"
      }
    },
    {
      "cell_type": "code",
      "source": [
        "\"\"\"\n",
        "if(condition):\n",
        "  do something\n",
        "\"\"\""
      ],
      "metadata": {
        "colab": {
          "base_uri": "https://localhost:8080/",
          "height": 35
        },
        "id": "lDk9or64HLlX",
        "outputId": "76f4924d-10b7-4ae4-806d-1b1b1912703f"
      },
      "execution_count": 1,
      "outputs": [
        {
          "output_type": "execute_result",
          "data": {
            "text/plain": [
              "'\\nif(condition);\\n  do something\\n'"
            ],
            "application/vnd.google.colaboratory.intrinsic+json": {
              "type": "string"
            }
          },
          "metadata": {},
          "execution_count": 1
        }
      ]
    },
    {
      "cell_type": "code",
      "source": [
        "if 3 > 2: \n",
        "  print(\"right\")\n",
        "#Set condtional statement to print right if 3 is greater than 2"
      ],
      "metadata": {
        "colab": {
          "base_uri": "https://localhost:8080/"
        },
        "id": "9iOS7ngiHLY6",
        "outputId": "1cbb0bc0-83e5-4c76-8fc2-61421465b897"
      },
      "execution_count": 3,
      "outputs": [
        {
          "output_type": "stream",
          "name": "stdout",
          "text": [
            "right\n"
          ]
        }
      ]
    },
    {
      "cell_type": "code",
      "source": [
        "if 4 > 7:\n",
        "  print(\"right\") #Set conditional statement to print right if 4 is greater than 7\n",
        "else:\n",
        "  print(\"wrong\") #prints wrong if condtional statement is not correct\n"
      ],
      "metadata": {
        "colab": {
          "base_uri": "https://localhost:8080/"
        },
        "id": "5iD3HYcDHLVY",
        "outputId": "662e0159-0334-43fc-d3fd-449bbb6640eb"
      },
      "execution_count": 5,
      "outputs": [
        {
          "output_type": "stream",
          "name": "stdout",
          "text": [
            "wrong\n"
          ]
        }
      ]
    },
    {
      "cell_type": "code",
      "source": [
        "a = 3\n",
        "b =  5\n",
        "if a > b: #set condtional statement using 2 declared variables\n",
        "  print('yes it is right') #prints 'yes it is right' if conditonal statement is correct \n",
        "else:\n",
        "  print('Try again')# prints 'try again 'if conditonal statement is wrong\n"
      ],
      "metadata": {
        "colab": {
          "base_uri": "https://localhost:8080/"
        },
        "id": "uOIjWvqyHLSx",
        "outputId": "ee68b7d7-978a-4fdc-d44a-16beed3c7281"
      },
      "execution_count": 8,
      "outputs": [
        {
          "output_type": "stream",
          "name": "stdout",
          "text": [
            "Try again\n"
          ]
        }
      ]
    },
    {
      "cell_type": "code",
      "source": [
        "drink = \"coke\" \n",
        "if drink == \"Coffee\": #Set conditonal statement using ariable drink\n",
        "  print(\"Humanity runs on coffee\")#If condtional statment is correct will print this outcome\n",
        "elif(drink == \"Water\"):#creates other conditonal statement to cover a seperate outcome\n",
        "  print(\"Water is the soul of the earth\")# Seperate outcome\n",
        "elif(drink == \"coke\"):#Another conditional statement\n",
        "  print(\"coke\")\n"
      ],
      "metadata": {
        "colab": {
          "base_uri": "https://localhost:8080/"
        },
        "id": "s3tABqjoHLL7",
        "outputId": "b15e1359-8564-4eda-e65f-ea3959520e74"
      },
      "execution_count": 15,
      "outputs": [
        {
          "output_type": "stream",
          "name": "stdout",
          "text": [
            "coke\n"
          ]
        }
      ]
    },
    {
      "cell_type": "markdown",
      "source": [
        "###Loops"
      ],
      "metadata": {
        "id": "UJkrD-ByJGad"
      }
    },
    {
      "cell_type": "markdown",
      "source": [
        "####For Loops"
      ],
      "metadata": {
        "id": "ljNpCgwNLpXd"
      }
    },
    {
      "cell_type": "code",
      "source": [
        "'''\n",
        "for iterator in array:\n",
        "  do something\n",
        "'''"
      ],
      "metadata": {
        "id": "XaqoEfH0LpP8"
      },
      "execution_count": null,
      "outputs": []
    },
    {
      "cell_type": "code",
      "source": [
        "my_list = [1, 2, 3, 4, 5, 6, 7, 8, 9, 10]"
      ],
      "metadata": {
        "id": "UrCmnMVKLpIx"
      },
      "execution_count": 16,
      "outputs": []
    },
    {
      "cell_type": "code",
      "source": [
        "for num in my_list: #basic for loop\n",
        "  print(num)"
      ],
      "metadata": {
        "colab": {
          "base_uri": "https://localhost:8080/"
        },
        "id": "N1_BMI6qMBoj",
        "outputId": "36972279-f48e-430b-9cbf-790696740179"
      },
      "execution_count": 17,
      "outputs": [
        {
          "output_type": "stream",
          "name": "stdout",
          "text": [
            "1\n",
            "2\n",
            "3\n",
            "4\n",
            "5\n",
            "6\n",
            "7\n",
            "8\n",
            "9\n",
            "10\n"
          ]
        }
      ]
    },
    {
      "cell_type": "code",
      "source": [
        "for i in my_list: # basic for loop\n",
        "  if (i % 2 == 0): #Conditional statement to set for loop to look for number divisible by 2\n",
        "    print(i)"
      ],
      "metadata": {
        "colab": {
          "base_uri": "https://localhost:8080/"
        },
        "id": "zz3NU9MTMIir",
        "outputId": "16883b8c-51e3-4625-9d32-51aa667131e3"
      },
      "execution_count": 19,
      "outputs": [
        {
          "output_type": "stream",
          "name": "stdout",
          "text": [
            "2\n",
            "4\n",
            "6\n",
            "8\n",
            "10\n"
          ]
        }
      ]
    },
    {
      "cell_type": "code",
      "source": [
        "for i in my_list:\n",
        "  if (i % 2 == 1):\n",
        "    print(i)"
      ],
      "metadata": {
        "colab": {
          "base_uri": "https://localhost:8080/"
        },
        "id": "XR966ClKMr36",
        "outputId": "f6a4ebb3-83ed-46d3-ba83-f08e7c6983a2"
      },
      "execution_count": 20,
      "outputs": [
        {
          "output_type": "stream",
          "name": "stdout",
          "text": [
            "2\n",
            "4\n",
            "6\n",
            "8\n",
            "10\n"
          ]
        }
      ]
    },
    {
      "cell_type": "code",
      "source": [
        "my_list = [1, 2, 3, 4, 5]\n",
        "list_sum = 0;\n",
        "for num in my_list:\n",
        "  list_sum = list_sum + num # for loop to add all numbers within a list\n",
        "print(list_sum)"
      ],
      "metadata": {
        "colab": {
          "base_uri": "https://localhost:8080/"
        },
        "id": "v-zmm67YM9JK",
        "outputId": "4065a214-fd77-4f32-902d-63d26b60cb5c"
      },
      "execution_count": 24,
      "outputs": [
        {
          "output_type": "stream",
          "name": "stdout",
          "text": [
            "15\n"
          ]
        }
      ]
    },
    {
      "cell_type": "code",
      "source": [
        "my_string = \"Hello World\"\n",
        "\n",
        "for x in my_string:\n",
        "  print(x) # for loop to pring out all letters in a sting "
      ],
      "metadata": {
        "colab": {
          "base_uri": "https://localhost:8080/"
        },
        "id": "6ZuQMjueNR43",
        "outputId": "b0ab7861-7f86-446b-e408-7cb084feb7c1"
      },
      "execution_count": 25,
      "outputs": [
        {
          "output_type": "stream",
          "name": "stdout",
          "text": [
            "H\n",
            "e\n",
            "l\n",
            "l\n",
            "o\n",
            " \n",
            "W\n",
            "o\n",
            "r\n",
            "l\n",
            "d\n"
          ]
        }
      ]
    },
    {
      "cell_type": "code",
      "source": [
        "my_list = [(1,2 ), (3, 4),(5, 6), (7, 8)]\n",
        "len(my_list)"
      ],
      "metadata": {
        "colab": {
          "base_uri": "https://localhost:8080/"
        },
        "id": "_OsbYNGeN37g",
        "outputId": "956d75de-d1ed-4bdb-ec5c-dfe50bf3ac88"
      },
      "execution_count": 26,
      "outputs": [
        {
          "output_type": "execute_result",
          "data": {
            "text/plain": [
              "4"
            ]
          },
          "metadata": {},
          "execution_count": 26
        }
      ]
    },
    {
      "cell_type": "code",
      "source": [
        "for tup in my_list:\n",
        "  print(tup) # for loop to print list that contains tupples"
      ],
      "metadata": {
        "colab": {
          "base_uri": "https://localhost:8080/"
        },
        "id": "jt8wb_ccN34u",
        "outputId": "418382f4-598d-4262-81de-bc61385ba475"
      },
      "execution_count": 27,
      "outputs": [
        {
          "output_type": "stream",
          "name": "stdout",
          "text": [
            "(1, 2)\n",
            "(3, 4)\n",
            "(5, 6)\n",
            "(7, 8)\n"
          ]
        }
      ]
    },
    {
      "cell_type": "code",
      "source": [
        "for a, b in my_list:\n",
        "  print(a,b ) #for loop that prints out each tupple seperatly and not in a set"
      ],
      "metadata": {
        "colab": {
          "base_uri": "https://localhost:8080/"
        },
        "id": "4Iko1OyRN3v-",
        "outputId": "49da3156-bfb1-4d33-e2bc-7adae00ce782"
      },
      "execution_count": 31,
      "outputs": [
        {
          "output_type": "stream",
          "name": "stdout",
          "text": [
            "1 2\n",
            "3 4\n",
            "5 6\n",
            "7 8\n"
          ]
        }
      ]
    },
    {
      "cell_type": "code",
      "source": [
        "my_list = [(1, 2, 3), (4, 5, 6), (7, 8, 9)]\n",
        "for a, b, c in my_list:\n",
        "  print(b, c)# for loop to print out only 2 numbers out each tupple"
      ],
      "metadata": {
        "colab": {
          "base_uri": "https://localhost:8080/"
        },
        "id": "9cOSevc4Og1O",
        "outputId": "1785137f-c2d5-46a5-b505-464281cd3eab"
      },
      "execution_count": 32,
      "outputs": [
        {
          "output_type": "stream",
          "name": "stdout",
          "text": [
            "2 3\n",
            "5 6\n",
            "8 9\n"
          ]
        }
      ]
    },
    {
      "cell_type": "code",
      "source": [
        "my_dict = {'k1' : 1, 'k2':2, 'k3':3}\n",
        "for i in my_dict:\n",
        "  print(i) #for loop to print out keys within a dictionary"
      ],
      "metadata": {
        "colab": {
          "base_uri": "https://localhost:8080/"
        },
        "id": "9k7ZDS7zOx9o",
        "outputId": "82c0fcb6-10b6-47e4-c3f6-30787d5024b2"
      },
      "execution_count": 33,
      "outputs": [
        {
          "output_type": "stream",
          "name": "stdout",
          "text": [
            "k1\n",
            "k2\n",
            "k3\n"
          ]
        }
      ]
    },
    {
      "cell_type": "code",
      "source": [
        "my_dict.items()"
      ],
      "metadata": {
        "colab": {
          "base_uri": "https://localhost:8080/"
        },
        "id": "MwqGC3VvPDlc",
        "outputId": "89e969db-d6fd-4f77-ac3e-61b8d614a8c2"
      },
      "execution_count": 34,
      "outputs": [
        {
          "output_type": "execute_result",
          "data": {
            "text/plain": [
              "dict_items([('k1', 1), ('k2', 2), ('k3', 3)])"
            ]
          },
          "metadata": {},
          "execution_count": 34
        }
      ]
    },
    {
      "cell_type": "code",
      "source": [
        "for i in my_dict.items():\n",
        "  print(i) #For loop to print out both keys and items within a dictionary"
      ],
      "metadata": {
        "colab": {
          "base_uri": "https://localhost:8080/"
        },
        "id": "TgXADIx5PGsX",
        "outputId": "c3f8b91b-a1e2-4c19-bd79-a0a79f9e7309"
      },
      "execution_count": 36,
      "outputs": [
        {
          "output_type": "stream",
          "name": "stdout",
          "text": [
            "('k1', 1)\n",
            "('k2', 2)\n",
            "('k3', 3)\n"
          ]
        }
      ]
    },
    {
      "cell_type": "code",
      "source": [
        "for a,b in my_dict.items(): \n",
        "  print(b) # for loop to print out only items in the dictionary by providing 2 variables a and b on for keys and on for items"
      ],
      "metadata": {
        "colab": {
          "base_uri": "https://localhost:8080/"
        },
        "id": "4u-JTHPIPYZv",
        "outputId": "719b2c03-7a33-443e-b978-1e0a3352f01f"
      },
      "execution_count": 37,
      "outputs": [
        {
          "output_type": "stream",
          "name": "stdout",
          "text": [
            "1\n",
            "2\n",
            "3\n"
          ]
        }
      ]
    },
    {
      "cell_type": "code",
      "source": [
        ""
      ],
      "metadata": {
        "id": "LszU3qZOTY1S"
      },
      "execution_count": null,
      "outputs": []
    },
    {
      "cell_type": "markdown",
      "source": [
        "####While Loops"
      ],
      "metadata": {
        "id": "KOwwMhRpPlZd"
      }
    },
    {
      "cell_type": "code",
      "source": [
        "i = 0\n",
        "while ( i < 5):\n",
        "  print(i)\n",
        "  i = i+1"
      ],
      "metadata": {
        "colab": {
          "base_uri": "https://localhost:8080/"
        },
        "id": "X7iFdLQHR78U",
        "outputId": "db1daeb3-dc53-4ede-d906-4b2eb0270097"
      },
      "execution_count": 38,
      "outputs": [
        {
          "output_type": "stream",
          "name": "stdout",
          "text": [
            "0\n",
            "1\n",
            "2\n",
            "3\n",
            "4\n"
          ]
        }
      ]
    },
    {
      "cell_type": "code",
      "source": [
        "i = 5\n",
        "\n",
        "while i < 5:\n",
        "  print(i)\n",
        "  i = i+1\n",
        "else: \n",
        "  print(\"i is not less than 5\")"
      ],
      "metadata": {
        "colab": {
          "base_uri": "https://localhost:8080/"
        },
        "id": "ryDxMvMoR9lE",
        "outputId": "adc4b343-c5c1-411c-ce12-1e6ea41f672a"
      },
      "execution_count": 40,
      "outputs": [
        {
          "output_type": "stream",
          "name": "stdout",
          "text": [
            "i is not less than 5\n"
          ]
        }
      ]
    },
    {
      "cell_type": "markdown",
      "source": [
        "####Pass, Break, and continue"
      ],
      "metadata": {
        "id": "RxF-AemTSzZ-"
      }
    },
    {
      "cell_type": "code",
      "source": [
        "i = [1, 2, 3, 4, 5]\n",
        "\n",
        "for items in i:\n",
        "  pass\n",
        "print(\"I will work after\")"
      ],
      "metadata": {
        "colab": {
          "base_uri": "https://localhost:8080/"
        },
        "id": "nASkFSpbTO5Z",
        "outputId": "2d1906a9-ebbc-459c-9230-a7e483701721"
      },
      "execution_count": 41,
      "outputs": [
        {
          "output_type": "stream",
          "name": "stdout",
          "text": [
            "I will work after\n"
          ]
        }
      ]
    },
    {
      "cell_type": "code",
      "source": [
        "my_string = \"Hello world\"\n",
        "\n",
        "for letters in my_string:\n",
        "  if letters == \"r\":\n",
        "    break\n",
        "  print(letters)"
      ],
      "metadata": {
        "colab": {
          "base_uri": "https://localhost:8080/"
        },
        "id": "tgyjb6mlThhh",
        "outputId": "1be662ec-4581-46f8-c3a2-4972633fb58e"
      },
      "execution_count": 43,
      "outputs": [
        {
          "output_type": "stream",
          "name": "stdout",
          "text": [
            "H\n",
            "e\n",
            "l\n",
            "l\n",
            "o\n",
            " \n",
            "w\n",
            "o\n"
          ]
        }
      ]
    },
    {
      "cell_type": "code",
      "source": [
        "my_string = \"Hello World\"\n",
        "\n",
        "for letters in my_string:\n",
        "  if letters == \"e\":\n",
        "    continue\n",
        "  print(letters)"
      ],
      "metadata": {
        "colab": {
          "base_uri": "https://localhost:8080/"
        },
        "id": "Xx5MeEFCT1E4",
        "outputId": "8962958c-df5e-4181-edc2-f720c4bd6dc3"
      },
      "execution_count": 50,
      "outputs": [
        {
          "output_type": "stream",
          "name": "stdout",
          "text": [
            "H\n",
            "l\n",
            "l\n",
            "o\n",
            " \n",
            "W\n",
            "o\n",
            "r\n",
            "l\n",
            "d\n"
          ]
        }
      ]
    },
    {
      "cell_type": "code",
      "source": [
        "i = 0\n",
        "while i < 5:\n",
        "  if i == 3:\n",
        "    break\n",
        "  print(i)\n",
        "  i = i+1"
      ],
      "metadata": {
        "colab": {
          "base_uri": "https://localhost:8080/"
        },
        "id": "ZgH5FLOoUCXD",
        "outputId": "2b6e09f3-0520-4037-85a1-0f21120dcbbd"
      },
      "execution_count": 51,
      "outputs": [
        {
          "output_type": "stream",
          "name": "stdout",
          "text": [
            "0\n",
            "1\n",
            "2\n"
          ]
        }
      ]
    },
    {
      "cell_type": "markdown",
      "source": [
        "##Most used built-in funtions in python"
      ],
      "metadata": {
        "id": "wum24WZTUj7-"
      }
    },
    {
      "cell_type": "markdown",
      "source": [
        "###Range Function"
      ],
      "metadata": {
        "id": "0j0j0lohUj5P"
      }
    },
    {
      "cell_type": "code",
      "source": [
        "for num in range(10):\n",
        "  print(num)"
      ],
      "metadata": {
        "colab": {
          "base_uri": "https://localhost:8080/"
        },
        "id": "iuef3MhqU63L",
        "outputId": "669bff3b-dc6a-46e2-bbdc-a67eece301d0"
      },
      "execution_count": 52,
      "outputs": [
        {
          "output_type": "stream",
          "name": "stdout",
          "text": [
            "0\n",
            "1\n",
            "2\n",
            "3\n",
            "4\n",
            "5\n",
            "6\n",
            "7\n",
            "8\n",
            "9\n"
          ]
        }
      ]
    },
    {
      "cell_type": "code",
      "source": [
        "for num in range(3, 10):\n",
        "  print(num)"
      ],
      "metadata": {
        "colab": {
          "base_uri": "https://localhost:8080/"
        },
        "id": "j0f2p843U6sP",
        "outputId": "4c815e46-2d01-455c-d7e9-b5b6b7a6e446"
      },
      "execution_count": 53,
      "outputs": [
        {
          "output_type": "stream",
          "name": "stdout",
          "text": [
            "3\n",
            "4\n",
            "5\n",
            "6\n",
            "7\n",
            "8\n",
            "9\n"
          ]
        }
      ]
    },
    {
      "cell_type": "code",
      "source": [
        "for num in range(0, 11, 2):\n",
        "  print(num)"
      ],
      "metadata": {
        "colab": {
          "base_uri": "https://localhost:8080/"
        },
        "id": "0jJdnf0nVIUa",
        "outputId": "a86fd3c0-1aa9-49fc-fe1c-0485a1f049c0"
      },
      "execution_count": 54,
      "outputs": [
        {
          "output_type": "stream",
          "name": "stdout",
          "text": [
            "0\n",
            "2\n",
            "4\n",
            "6\n",
            "8\n",
            "10\n"
          ]
        }
      ]
    },
    {
      "cell_type": "code",
      "source": [
        "my_list = [ 1, 2, 3, 4, 5, 6, 7, 8, 9, 10]\n",
        "range(10)\n",
        "list(range(10))\n",
        "list(range(1, 11))"
      ],
      "metadata": {
        "colab": {
          "base_uri": "https://localhost:8080/"
        },
        "id": "ojyMrkL1VOwe",
        "outputId": "193d9c5d-d22b-4751-a3b8-cb15e93232eb"
      },
      "execution_count": 55,
      "outputs": [
        {
          "output_type": "execute_result",
          "data": {
            "text/plain": [
              "[1, 2, 3, 4, 5, 6, 7, 8, 9, 10]"
            ]
          },
          "metadata": {},
          "execution_count": 55
        }
      ]
    },
    {
      "cell_type": "markdown",
      "source": [
        "###Enumerate"
      ],
      "metadata": {
        "id": "3VhSMcRZViwK"
      }
    },
    {
      "cell_type": "code",
      "source": [
        "word = \"Batman\"\n",
        "for items in word:\n",
        "  print(items)"
      ],
      "metadata": {
        "colab": {
          "base_uri": "https://localhost:8080/"
        },
        "id": "MwRNxAXiVmzf",
        "outputId": "77477f7d-402e-4e14-c78e-ce8456aff81a"
      },
      "execution_count": 56,
      "outputs": [
        {
          "output_type": "stream",
          "name": "stdout",
          "text": [
            "B\n",
            "a\n",
            "t\n",
            "m\n",
            "a\n",
            "n\n"
          ]
        }
      ]
    },
    {
      "cell_type": "code",
      "source": [
        "for items in enumerate(word):\n",
        "  print(items)"
      ],
      "metadata": {
        "colab": {
          "base_uri": "https://localhost:8080/"
        },
        "id": "lytJAMLiVx7k",
        "outputId": "f451e4b8-4606-409f-bde8-bcc02194405d"
      },
      "execution_count": 57,
      "outputs": [
        {
          "output_type": "stream",
          "name": "stdout",
          "text": [
            "(0, 'B')\n",
            "(1, 'a')\n",
            "(2, 't')\n",
            "(3, 'm')\n",
            "(4, 'a')\n",
            "(5, 'n')\n"
          ]
        }
      ]
    },
    {
      "cell_type": "code",
      "source": [
        "for a, b in enumerate(word):\n",
        "  print(a)\n",
        "  print(b)\n",
        "  print('\\n')"
      ],
      "metadata": {
        "colab": {
          "base_uri": "https://localhost:8080/"
        },
        "id": "mQPiuj--V3ld",
        "outputId": "e16696ba-2abb-4b88-8fa3-dce6c58af343"
      },
      "execution_count": 58,
      "outputs": [
        {
          "output_type": "stream",
          "name": "stdout",
          "text": [
            "0\n",
            "B\n",
            "\n",
            "\n",
            "1\n",
            "a\n",
            "\n",
            "\n",
            "2\n",
            "t\n",
            "\n",
            "\n",
            "3\n",
            "m\n",
            "\n",
            "\n",
            "4\n",
            "a\n",
            "\n",
            "\n",
            "5\n",
            "n\n",
            "\n",
            "\n"
          ]
        }
      ]
    },
    {
      "cell_type": "code",
      "source": [
        "list1 = [1, 2, 3, 4, 5]\n",
        "list2 = ['a', 'b', 'c','d', 'e']\n",
        "list3 =['a', 'b', 'd']"
      ],
      "metadata": {
        "id": "BuWBICk_WQtH"
      },
      "execution_count": 59,
      "outputs": []
    },
    {
      "cell_type": "code",
      "source": [
        "list4 = zip(list1, list2)"
      ],
      "metadata": {
        "id": "3PfdPmQKWioV"
      },
      "execution_count": 60,
      "outputs": []
    },
    {
      "cell_type": "code",
      "source": [
        "print(list4)"
      ],
      "metadata": {
        "colab": {
          "base_uri": "https://localhost:8080/"
        },
        "id": "zOkrcPIDWniY",
        "outputId": "be9ede52-90c4-4090-fcef-398efdd71114"
      },
      "execution_count": 61,
      "outputs": [
        {
          "output_type": "stream",
          "name": "stdout",
          "text": [
            "<zip object at 0x7f72c09f86e0>\n"
          ]
        }
      ]
    },
    {
      "cell_type": "code",
      "source": [
        "for items in zip(list1, list2):\n",
        "  print(items)"
      ],
      "metadata": {
        "colab": {
          "base_uri": "https://localhost:8080/"
        },
        "id": "ImksQePSWo_p",
        "outputId": "79d28cb2-8b23-4da2-d205-5f4707fa7ed7"
      },
      "execution_count": 62,
      "outputs": [
        {
          "output_type": "stream",
          "name": "stdout",
          "text": [
            "(1, 'a')\n",
            "(2, 'b')\n",
            "(3, 'c')\n",
            "(4, 'd')\n",
            "(5, 'e')\n"
          ]
        }
      ]
    },
    {
      "cell_type": "code",
      "source": [
        "for a, b in zip(list1, list2):\n",
        "  print(a, b)"
      ],
      "metadata": {
        "colab": {
          "base_uri": "https://localhost:8080/"
        },
        "id": "8zoBacRbWvBn",
        "outputId": "07436583-e4e9-4bda-e58f-e601106299bb"
      },
      "execution_count": 64,
      "outputs": [
        {
          "output_type": "stream",
          "name": "stdout",
          "text": [
            "1 a\n",
            "2 b\n",
            "3 c\n",
            "4 d\n",
            "5 e\n"
          ]
        }
      ]
    },
    {
      "cell_type": "code",
      "source": [
        "for items in zip(list1, list2, list3):\n",
        "  print(items)"
      ],
      "metadata": {
        "colab": {
          "base_uri": "https://localhost:8080/"
        },
        "id": "CQmJuQT4W129",
        "outputId": "0629d240-f796-49f8-bf30-e2460b020fce"
      },
      "execution_count": 65,
      "outputs": [
        {
          "output_type": "stream",
          "name": "stdout",
          "text": [
            "(1, 'a', 'a')\n",
            "(2, 'b', 'b')\n",
            "(3, 'c', 'd')\n"
          ]
        }
      ]
    },
    {
      "cell_type": "code",
      "source": [
        "for a, b, c in zip(list1, list2, list3):\n",
        "  print(b)"
      ],
      "metadata": {
        "colab": {
          "base_uri": "https://localhost:8080/"
        },
        "id": "PF6I-w8OXAlC",
        "outputId": "ecab9bd7-368c-4543-f659-4837f06c7ae5"
      },
      "execution_count": 66,
      "outputs": [
        {
          "output_type": "stream",
          "name": "stdout",
          "text": [
            "a\n",
            "b\n",
            "c\n"
          ]
        }
      ]
    },
    {
      "cell_type": "code",
      "source": [
        ""
      ],
      "metadata": {
        "id": "uDfOj96cXIaS"
      },
      "execution_count": null,
      "outputs": []
    }
  ]
}