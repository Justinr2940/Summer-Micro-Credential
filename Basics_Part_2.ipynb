{
  "nbformat": 4,
  "nbformat_minor": 0,
  "metadata": {
    "colab": {
      "name": "Basics Part 2.ipynb",
      "provenance": [],
      "collapsed_sections": [],
      "authorship_tag": "ABX9TyNsl0TB5vk3hLLVrHoebU6O",
      "include_colab_link": true
    },
    "kernelspec": {
      "name": "python3",
      "display_name": "Python 3"
    },
    "language_info": {
      "name": "python"
    }
  },
  "cells": [
    {
      "cell_type": "markdown",
      "metadata": {
        "id": "view-in-github",
        "colab_type": "text"
      },
      "source": [
        "<a href=\"https://colab.research.google.com/github/Justinr2940/Summer-Micro-Credential/blob/main/Basics_Part_2.ipynb\" target=\"_parent\"><img src=\"https://colab.research.google.com/assets/colab-badge.svg\" alt=\"Open In Colab\"/></a>"
      ]
    },
    {
      "cell_type": "markdown",
      "source": [
        "#Intro to Python part II\n",
        "##Data Structures"
      ],
      "metadata": {
        "id": "6h4oOkH5-moM"
      }
    },
    {
      "cell_type": "markdown",
      "source": [
        "### Lists"
      ],
      "metadata": {
        "id": "RgT7fMNl-ykq"
      }
    },
    {
      "cell_type": "code",
      "source": [
        "my_list = [\"hello\", 100, 27, 47]"
      ],
      "metadata": {
        "id": "va_ecUIF-3AV"
      },
      "execution_count": 1,
      "outputs": []
    },
    {
      "cell_type": "code",
      "source": [
        "my_list"
      ],
      "metadata": {
        "colab": {
          "base_uri": "https://localhost:8080/"
        },
        "id": "FDlM7ULq-293",
        "outputId": "ad4e44d1-7bc7-4d22-e560-26371e51743d"
      },
      "execution_count": 2,
      "outputs": [
        {
          "output_type": "execute_result",
          "data": {
            "text/plain": [
              "['hello', 100, 27, 47]"
            ]
          },
          "metadata": {},
          "execution_count": 2
        }
      ]
    },
    {
      "cell_type": "code",
      "source": [
        "type(my_list)"
      ],
      "metadata": {
        "colab": {
          "base_uri": "https://localhost:8080/"
        },
        "id": "tZrGWSe5-209",
        "outputId": "36cef721-db7f-4e79-8bf8-1568201c1a2f"
      },
      "execution_count": 3,
      "outputs": [
        {
          "output_type": "execute_result",
          "data": {
            "text/plain": [
              "list"
            ]
          },
          "metadata": {},
          "execution_count": 3
        }
      ]
    },
    {
      "cell_type": "code",
      "source": [
        "second_list = [\"one\", \"two\", \"three\"]"
      ],
      "metadata": {
        "id": "whlc7EyN_9M-"
      },
      "execution_count": 4,
      "outputs": []
    },
    {
      "cell_type": "code",
      "source": [
        "print(my_list, second_list)"
      ],
      "metadata": {
        "colab": {
          "base_uri": "https://localhost:8080/"
        },
        "id": "uRd6OrNkAIxR",
        "outputId": "7e7e2340-6eac-42fb-de2a-dcb9f8a3de4d"
      },
      "execution_count": 5,
      "outputs": [
        {
          "output_type": "stream",
          "name": "stdout",
          "text": [
            "['hello', 100, 27, 47] ['one', 'two', 'three']\n"
          ]
        }
      ]
    },
    {
      "cell_type": "markdown",
      "source": [
        "###1)concatenation"
      ],
      "metadata": {
        "id": "Bbz3HhRqAO7O"
      }
    },
    {
      "cell_type": "code",
      "source": [
        "new_list = my_list + second_list"
      ],
      "metadata": {
        "id": "o4jT0gr2BPtJ"
      },
      "execution_count": 6,
      "outputs": []
    },
    {
      "cell_type": "code",
      "source": [
        "print(new_list)"
      ],
      "metadata": {
        "colab": {
          "base_uri": "https://localhost:8080/"
        },
        "id": "6wyPX89VBPpz",
        "outputId": "de361232-c50e-4585-f991-a296cdd77dff"
      },
      "execution_count": 7,
      "outputs": [
        {
          "output_type": "stream",
          "name": "stdout",
          "text": [
            "['hello', 100, 27, 47, 'one', 'two', 'three']\n"
          ]
        }
      ]
    },
    {
      "cell_type": "markdown",
      "source": [
        "### 2) indexing in a list"
      ],
      "metadata": {
        "id": "VLNe5-HtBPgp"
      }
    },
    {
      "cell_type": "code",
      "source": [
        "students = [\"Robert\", \"Chris\", \" Katrina\", \"Scarlett\"]"
      ],
      "metadata": {
        "id": "OH0td3cGBPVc"
      },
      "execution_count": 8,
      "outputs": []
    },
    {
      "cell_type": "code",
      "source": [
        "students"
      ],
      "metadata": {
        "colab": {
          "base_uri": "https://localhost:8080/"
        },
        "id": "fkKC-e5GB9Wv",
        "outputId": "60cca155-5b36-4445-abab-85e569e3536e"
      },
      "execution_count": 9,
      "outputs": [
        {
          "output_type": "execute_result",
          "data": {
            "text/plain": [
              "['Robert', 'Chris', ' Katrina', 'Scarlett']"
            ]
          },
          "metadata": {},
          "execution_count": 9
        }
      ]
    },
    {
      "cell_type": "code",
      "source": [
        "students[2]"
      ],
      "metadata": {
        "colab": {
          "base_uri": "https://localhost:8080/",
          "height": 35
        },
        "id": "bDvKnPJqB-YV",
        "outputId": "0676f911-818a-4fd5-fdea-399feca3f003"
      },
      "execution_count": 11,
      "outputs": [
        {
          "output_type": "execute_result",
          "data": {
            "text/plain": [
              "' Katrina'"
            ],
            "application/vnd.google.colaboratory.intrinsic+json": {
              "type": "string"
            }
          },
          "metadata": {},
          "execution_count": 11
        }
      ]
    },
    {
      "cell_type": "code",
      "source": [
        "string1 = \"this is a string\""
      ],
      "metadata": {
        "id": "GODr81kmCCBx"
      },
      "execution_count": 15,
      "outputs": []
    },
    {
      "cell_type": "code",
      "source": [
        "string1"
      ],
      "metadata": {
        "colab": {
          "base_uri": "https://localhost:8080/",
          "height": 35
        },
        "id": "XAlQYnSwCYFT",
        "outputId": "a90e330f-722f-482f-fbad-efd04f3aff58"
      },
      "execution_count": 16,
      "outputs": [
        {
          "output_type": "execute_result",
          "data": {
            "text/plain": [
              "'this is a string'"
            ],
            "application/vnd.google.colaboratory.intrinsic+json": {
              "type": "string"
            }
          },
          "metadata": {},
          "execution_count": 16
        }
      ]
    },
    {
      "cell_type": "code",
      "source": [
        "string1[2]"
      ],
      "metadata": {
        "colab": {
          "base_uri": "https://localhost:8080/",
          "height": 35
        },
        "id": "fqc2BBVBCZUZ",
        "outputId": "1e0693f3-00dc-4ddc-bd48-d16b0b03e315"
      },
      "execution_count": 17,
      "outputs": [
        {
          "output_type": "execute_result",
          "data": {
            "text/plain": [
              "'i'"
            ],
            "application/vnd.google.colaboratory.intrinsic+json": {
              "type": "string"
            }
          },
          "metadata": {},
          "execution_count": 17
        }
      ]
    },
    {
      "cell_type": "markdown",
      "source": [
        "### 3) Editing the list"
      ],
      "metadata": {
        "id": "aoFPZaWDCfVX"
      }
    },
    {
      "cell_type": "code",
      "source": [
        "students"
      ],
      "metadata": {
        "colab": {
          "base_uri": "https://localhost:8080/"
        },
        "id": "1m8VS5c_Co6b",
        "outputId": "2517a9a8-7f4a-4d06-fe00-342cd37be3d6"
      },
      "execution_count": 18,
      "outputs": [
        {
          "output_type": "execute_result",
          "data": {
            "text/plain": [
              "['Robert', 'Chris', ' Katrina', 'Scarlett']"
            ]
          },
          "metadata": {},
          "execution_count": 18
        }
      ]
    },
    {
      "cell_type": "code",
      "source": [
        "#replace values\n",
        "students[0]= \"sam\""
      ],
      "metadata": {
        "id": "0pWgJWqaCp8k"
      },
      "execution_count": 20,
      "outputs": []
    },
    {
      "cell_type": "code",
      "source": [
        "students"
      ],
      "metadata": {
        "colab": {
          "base_uri": "https://localhost:8080/"
        },
        "id": "4auQEJHIC1KQ",
        "outputId": "2f6c868c-c8ee-4046-999e-5b6c3dc2a24a"
      },
      "execution_count": 21,
      "outputs": [
        {
          "output_type": "execute_result",
          "data": {
            "text/plain": [
              "['sam', 'Chris', ' Katrina', 'Scarlett']"
            ]
          },
          "metadata": {},
          "execution_count": 21
        }
      ]
    },
    {
      "cell_type": "code",
      "source": [
        "#Add Values\n",
        "students.append(\"paul\")\n",
        "students"
      ],
      "metadata": {
        "colab": {
          "base_uri": "https://localhost:8080/"
        },
        "id": "PCn_KY8OC4jS",
        "outputId": "263968ef-fc0a-4b6c-e457-f46941bd6f39"
      },
      "execution_count": 22,
      "outputs": [
        {
          "output_type": "execute_result",
          "data": {
            "text/plain": [
              "['sam', 'Chris', ' Katrina', 'Scarlett', 'paul']"
            ]
          },
          "metadata": {},
          "execution_count": 22
        }
      ]
    },
    {
      "cell_type": "code",
      "source": [
        "#remove Values\n",
        "students.remove(\"Scarlett\")\n",
        "students"
      ],
      "metadata": {
        "colab": {
          "base_uri": "https://localhost:8080/"
        },
        "id": "wBqOT0YlDQ0a",
        "outputId": "1ab1b547-a605-47a7-caaf-358f3a9a56c8"
      },
      "execution_count": 23,
      "outputs": [
        {
          "output_type": "execute_result",
          "data": {
            "text/plain": [
              "['sam', 'Chris', ' Katrina', 'paul']"
            ]
          },
          "metadata": {},
          "execution_count": 23
        }
      ]
    },
    {
      "cell_type": "code",
      "source": [
        "list1 = ['one', 'two', 'three', 'four', 'five']"
      ],
      "metadata": {
        "id": "06-7rqB8DYnb"
      },
      "execution_count": 27,
      "outputs": []
    },
    {
      "cell_type": "code",
      "source": [
        "list1.pop(2)"
      ],
      "metadata": {
        "colab": {
          "base_uri": "https://localhost:8080/",
          "height": 35
        },
        "id": "ht6kbtCODio2",
        "outputId": "d17ad2fb-9820-44dd-cab1-f215aba95aa2"
      },
      "execution_count": 29,
      "outputs": [
        {
          "output_type": "execute_result",
          "data": {
            "text/plain": [
              "'three'"
            ],
            "application/vnd.google.colaboratory.intrinsic+json": {
              "type": "string"
            }
          },
          "metadata": {},
          "execution_count": 29
        }
      ]
    },
    {
      "cell_type": "code",
      "source": [
        "list1"
      ],
      "metadata": {
        "colab": {
          "base_uri": "https://localhost:8080/"
        },
        "id": "QAvsMCIFDlIY",
        "outputId": "81d33041-6788-4a6b-f197-d610fb0aa04c"
      },
      "execution_count": 30,
      "outputs": [
        {
          "output_type": "execute_result",
          "data": {
            "text/plain": [
              "['one', 'two', 'four']"
            ]
          },
          "metadata": {},
          "execution_count": 30
        }
      ]
    },
    {
      "cell_type": "markdown",
      "source": [
        "### 4) Add list into list"
      ],
      "metadata": {
        "id": "tyRkv1nBDtBl"
      }
    },
    {
      "cell_type": "code",
      "source": [
        "color = ['red', 'green', 'blue', 'violet']"
      ],
      "metadata": {
        "id": "auwPWae4D9yd"
      },
      "execution_count": 31,
      "outputs": []
    },
    {
      "cell_type": "code",
      "source": [
        "color"
      ],
      "metadata": {
        "colab": {
          "base_uri": "https://localhost:8080/"
        },
        "id": "KYmmb8yUEF5b",
        "outputId": "e81759c4-5212-4c31-ebd8-9939fb3d287d"
      },
      "execution_count": 32,
      "outputs": [
        {
          "output_type": "execute_result",
          "data": {
            "text/plain": [
              "['red', 'green', 'blue', 'violet']"
            ]
          },
          "metadata": {},
          "execution_count": 32
        }
      ]
    },
    {
      "cell_type": "code",
      "source": [
        "age = [21, 23,25, 27]"
      ],
      "metadata": {
        "id": "62YfFyB9EGoT"
      },
      "execution_count": 33,
      "outputs": []
    },
    {
      "cell_type": "code",
      "source": [
        "age"
      ],
      "metadata": {
        "colab": {
          "base_uri": "https://localhost:8080/"
        },
        "id": "vyz4dOduEMkz",
        "outputId": "4c327920-1e36-438a-c758-7aa5842625eb"
      },
      "execution_count": 34,
      "outputs": [
        {
          "output_type": "execute_result",
          "data": {
            "text/plain": [
              "[21, 23, 25, 27]"
            ]
          },
          "metadata": {},
          "execution_count": 34
        }
      ]
    },
    {
      "cell_type": "code",
      "source": [
        "color.extend(age)"
      ],
      "metadata": {
        "id": "cJxgc3iDEM9B"
      },
      "execution_count": 35,
      "outputs": []
    },
    {
      "cell_type": "code",
      "source": [
        "color"
      ],
      "metadata": {
        "colab": {
          "base_uri": "https://localhost:8080/"
        },
        "id": "eBK6HZ52EPDO",
        "outputId": "db2265e1-d792-4434-8fb5-934842a18c27"
      },
      "execution_count": 36,
      "outputs": [
        {
          "output_type": "execute_result",
          "data": {
            "text/plain": [
              "['red', 'green', 'blue', 'violet', 21, 23, 25, 27]"
            ]
          },
          "metadata": {},
          "execution_count": 36
        }
      ]
    },
    {
      "cell_type": "markdown",
      "source": [
        "### 5) Python in-build functions with the list's"
      ],
      "metadata": {
        "id": "dw_xusRKEPzg"
      }
    },
    {
      "cell_type": "code",
      "source": [
        "even = [2, 4, 6, 8, ]\n",
        "odd = [1, 3, 5, 7, 9]"
      ],
      "metadata": {
        "id": "5wYpIM-wEaB7"
      },
      "execution_count": 37,
      "outputs": []
    },
    {
      "cell_type": "code",
      "source": [
        "numbers = even + odd"
      ],
      "metadata": {
        "id": "b02ViAR7E9dL"
      },
      "execution_count": 38,
      "outputs": []
    },
    {
      "cell_type": "code",
      "source": [
        "numbers"
      ],
      "metadata": {
        "colab": {
          "base_uri": "https://localhost:8080/"
        },
        "id": "XA58PTZVFBKN",
        "outputId": "9047cb5c-aee5-45f6-881b-b088f72bb7e8"
      },
      "execution_count": 40,
      "outputs": [
        {
          "output_type": "execute_result",
          "data": {
            "text/plain": [
              "[2, 4, 6, 8, 1, 3, 5, 7, 9]"
            ]
          },
          "metadata": {},
          "execution_count": 40
        }
      ]
    },
    {
      "cell_type": "code",
      "source": [
        "print(sorted(numbers))"
      ],
      "metadata": {
        "colab": {
          "base_uri": "https://localhost:8080/"
        },
        "id": "O4Zfk3C_FB2x",
        "outputId": "bc846775-fc63-4b15-ba4b-facd91409513"
      },
      "execution_count": 41,
      "outputs": [
        {
          "output_type": "stream",
          "name": "stdout",
          "text": [
            "[1, 2, 3, 4, 5, 6, 7, 8, 9]\n"
          ]
        }
      ]
    },
    {
      "cell_type": "code",
      "source": [
        "len(numbers)"
      ],
      "metadata": {
        "colab": {
          "base_uri": "https://localhost:8080/"
        },
        "id": "iZ8k0L63FLrg",
        "outputId": "04a2f875-450e-489d-9668-02d13ad18cc7"
      },
      "execution_count": 44,
      "outputs": [
        {
          "output_type": "execute_result",
          "data": {
            "text/plain": [
              "9"
            ]
          },
          "metadata": {},
          "execution_count": 44
        }
      ]
    },
    {
      "cell_type": "code",
      "source": [
        "max(numbers)"
      ],
      "metadata": {
        "colab": {
          "base_uri": "https://localhost:8080/"
        },
        "id": "eNl12GA3Fk_1",
        "outputId": "39e556ec-2d11-4d1e-8606-78f483b71ed9"
      },
      "execution_count": 45,
      "outputs": [
        {
          "output_type": "execute_result",
          "data": {
            "text/plain": [
              "9"
            ]
          },
          "metadata": {},
          "execution_count": 45
        }
      ]
    },
    {
      "cell_type": "code",
      "source": [
        "min(numbers)"
      ],
      "metadata": {
        "colab": {
          "base_uri": "https://localhost:8080/"
        },
        "id": "sBPUGTphFnWR",
        "outputId": "cd13bf6c-68ac-4aaa-ffd9-5bb5bbac5872"
      },
      "execution_count": 46,
      "outputs": [
        {
          "output_type": "execute_result",
          "data": {
            "text/plain": [
              "1"
            ]
          },
          "metadata": {},
          "execution_count": 46
        }
      ]
    },
    {
      "cell_type": "code",
      "source": [
        ""
      ],
      "metadata": {
        "id": "Gd9dOC5IFrIn"
      },
      "execution_count": null,
      "outputs": []
    }
  ]
}