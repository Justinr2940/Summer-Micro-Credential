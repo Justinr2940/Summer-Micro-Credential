{
  "nbformat": 4,
  "nbformat_minor": 0,
  "metadata": {
    "colab": {
      "name": "Basics Part 2.ipynb",
      "provenance": [],
      "collapsed_sections": [
        "JcrLTkvksg58",
        "mzjWNBVCvcyf",
        "9OisiRvowmtU",
        "hs5Ep6RyDnGK"
      ],
      "authorship_tag": "ABX9TyPn4JlPCp41cfsjGyHySrNJ",
      "include_colab_link": true
    },
    "kernelspec": {
      "name": "python3",
      "display_name": "Python 3"
    },
    "language_info": {
      "name": "python"
    }
  },
  "cells": [
    {
      "cell_type": "markdown",
      "metadata": {
        "id": "view-in-github",
        "colab_type": "text"
      },
      "source": [
        "<a href=\"https://colab.research.google.com/github/Justinr2940/Summer-Micro-Credential/blob/main/Basics_Part_2.ipynb\" target=\"_parent\"><img src=\"https://colab.research.google.com/assets/colab-badge.svg\" alt=\"Open In Colab\"/></a>"
      ]
    },
    {
      "cell_type": "markdown",
      "source": [
        "#Intro to Python part II\n",
        "##Data Structures"
      ],
      "metadata": {
        "id": "6h4oOkH5-moM"
      }
    },
    {
      "cell_type": "markdown",
      "source": [
        "### Lists"
      ],
      "metadata": {
        "id": "RgT7fMNl-ykq"
      }
    },
    {
      "cell_type": "code",
      "source": [
        "lst = []\n",
        "# In this line i am defining empty list\n",
        "# To define list i create a variable name such as 'lst'and then i assigned an empty set of square brackets\n"
      ],
      "metadata": {
        "id": "_vtVLPUvwwYI"
      },
      "execution_count": 63,
      "outputs": []
    },
    {
      "cell_type": "code",
      "source": [
        "type(lst)\n",
        "#using type fucntion to check type of variable lst"
      ],
      "metadata": {
        "colab": {
          "base_uri": "https://localhost:8080/"
        },
        "id": "YoVsl-Yow2t9",
        "outputId": "c0df2482-7e30-43f9-9222-abd2bb0394b4"
      },
      "execution_count": 64,
      "outputs": [
        {
          "output_type": "execute_result",
          "data": {
            "text/plain": [
              "list"
            ]
          },
          "metadata": {},
          "execution_count": 64
        }
      ]
    },
    {
      "cell_type": "code",
      "source": [
        "my_list = [\"hello\", 100, 27, 47]\n",
        "# creating new list with 4 items in it"
      ],
      "metadata": {
        "id": "va_ecUIF-3AV"
      },
      "execution_count": 1,
      "outputs": []
    },
    {
      "cell_type": "code",
      "source": [
        "my_list\n",
        "#printing the item in my_list"
      ],
      "metadata": {
        "colab": {
          "base_uri": "https://localhost:8080/"
        },
        "id": "FDlM7ULq-293",
        "outputId": "88b1144e-ddc8-4c6b-b9bc-fa292c228dd1"
      },
      "execution_count": 2,
      "outputs": [
        {
          "output_type": "execute_result",
          "data": {
            "text/plain": [
              "['hello', 100, 27, 47]"
            ]
          },
          "metadata": {},
          "execution_count": 2
        }
      ]
    },
    {
      "cell_type": "code",
      "source": [
        "type(my_list)\n",
        "#checking the type of my_list"
      ],
      "metadata": {
        "colab": {
          "base_uri": "https://localhost:8080/"
        },
        "id": "tZrGWSe5-209",
        "outputId": "32030132-8dcf-4a13-dedb-0edc6b280ef8"
      },
      "execution_count": 3,
      "outputs": [
        {
          "output_type": "execute_result",
          "data": {
            "text/plain": [
              "list"
            ]
          },
          "metadata": {},
          "execution_count": 3
        }
      ]
    },
    {
      "cell_type": "code",
      "source": [
        "second_list = [\"one\", \"two\", \"three\"]\n",
        "#creating new list with 3 items in it"
      ],
      "metadata": {
        "id": "whlc7EyN_9M-"
      },
      "execution_count": 4,
      "outputs": []
    },
    {
      "cell_type": "code",
      "source": [
        "print(my_list, second_list)\n",
        "# printing both lists"
      ],
      "metadata": {
        "colab": {
          "base_uri": "https://localhost:8080/"
        },
        "id": "uRd6OrNkAIxR",
        "outputId": "48163bb1-4de9-4fa2-c156-3337a40191f6"
      },
      "execution_count": 5,
      "outputs": [
        {
          "output_type": "stream",
          "name": "stdout",
          "text": [
            "['hello', 100, 27, 47] ['one', 'two', 'three']\n"
          ]
        }
      ]
    },
    {
      "cell_type": "markdown",
      "source": [
        "####1)concatenation"
      ],
      "metadata": {
        "id": "Bbz3HhRqAO7O"
      }
    },
    {
      "cell_type": "code",
      "source": [
        "new_list = my_list + second_list\n",
        "#creating new list and adding both my_list and second_list into it"
      ],
      "metadata": {
        "id": "o4jT0gr2BPtJ"
      },
      "execution_count": 6,
      "outputs": []
    },
    {
      "cell_type": "code",
      "source": [
        "print(new_list)\n",
        "#printing all items in new_list"
      ],
      "metadata": {
        "colab": {
          "base_uri": "https://localhost:8080/"
        },
        "id": "6wyPX89VBPpz",
        "outputId": "7229377c-8b98-47bd-a6d2-5c1b6f454f5f"
      },
      "execution_count": 7,
      "outputs": [
        {
          "output_type": "stream",
          "name": "stdout",
          "text": [
            "['hello', 100, 27, 47, 'one', 'two', 'three']\n"
          ]
        }
      ]
    },
    {
      "cell_type": "markdown",
      "source": [
        "### 2) indexing in a list"
      ],
      "metadata": {
        "id": "VLNe5-HtBPgp"
      }
    },
    {
      "cell_type": "code",
      "source": [
        "students = [\"Robert\", \"Chris\", \" Katrina\", \"Scarlett\"]"
      ],
      "metadata": {
        "id": "OH0td3cGBPVc"
      },
      "execution_count": 8,
      "outputs": []
    },
    {
      "cell_type": "code",
      "source": [
        "students"
      ],
      "metadata": {
        "colab": {
          "base_uri": "https://localhost:8080/"
        },
        "id": "fkKC-e5GB9Wv",
        "outputId": "052c1dad-79b6-48e8-b762-d238f3fdd880"
      },
      "execution_count": 9,
      "outputs": [
        {
          "output_type": "execute_result",
          "data": {
            "text/plain": [
              "['Robert', 'Chris', ' Katrina', 'Scarlett']"
            ]
          },
          "metadata": {},
          "execution_count": 9
        }
      ]
    },
    {
      "cell_type": "code",
      "source": [
        "students[2]\n",
        "#checking specific item in new list"
      ],
      "metadata": {
        "colab": {
          "base_uri": "https://localhost:8080/",
          "height": 35
        },
        "id": "bDvKnPJqB-YV",
        "outputId": "561e1fe5-52ff-470f-ab8c-944d1001c901"
      },
      "execution_count": 10,
      "outputs": [
        {
          "output_type": "execute_result",
          "data": {
            "text/plain": [
              "' Katrina'"
            ],
            "application/vnd.google.colaboratory.intrinsic+json": {
              "type": "string"
            }
          },
          "metadata": {},
          "execution_count": 10
        }
      ]
    },
    {
      "cell_type": "code",
      "source": [
        "string1 = \"this is a string\"\n"
      ],
      "metadata": {
        "id": "GODr81kmCCBx"
      },
      "execution_count": 11,
      "outputs": []
    },
    {
      "cell_type": "code",
      "source": [
        "string1"
      ],
      "metadata": {
        "colab": {
          "base_uri": "https://localhost:8080/",
          "height": 35
        },
        "id": "XAlQYnSwCYFT",
        "outputId": "78609881-b189-4c17-e99f-81a4c95a1e9a"
      },
      "execution_count": 12,
      "outputs": [
        {
          "output_type": "execute_result",
          "data": {
            "text/plain": [
              "'this is a string'"
            ],
            "application/vnd.google.colaboratory.intrinsic+json": {
              "type": "string"
            }
          },
          "metadata": {},
          "execution_count": 12
        }
      ]
    },
    {
      "cell_type": "code",
      "source": [
        "string1[2]\n",
        "#checking the third item in the string"
      ],
      "metadata": {
        "colab": {
          "base_uri": "https://localhost:8080/",
          "height": 35
        },
        "id": "fqc2BBVBCZUZ",
        "outputId": "c2d208c6-e4ea-4fbe-f52d-8825709cebfc"
      },
      "execution_count": 13,
      "outputs": [
        {
          "output_type": "execute_result",
          "data": {
            "text/plain": [
              "'i'"
            ],
            "application/vnd.google.colaboratory.intrinsic+json": {
              "type": "string"
            }
          },
          "metadata": {},
          "execution_count": 13
        }
      ]
    },
    {
      "cell_type": "markdown",
      "source": [
        "### 3) Editing the list"
      ],
      "metadata": {
        "id": "aoFPZaWDCfVX"
      }
    },
    {
      "cell_type": "code",
      "source": [
        "students"
      ],
      "metadata": {
        "colab": {
          "base_uri": "https://localhost:8080/"
        },
        "id": "1m8VS5c_Co6b",
        "outputId": "5f19e86e-33bd-46b4-fd13-76a394eac0f4"
      },
      "execution_count": 14,
      "outputs": [
        {
          "output_type": "execute_result",
          "data": {
            "text/plain": [
              "['Robert', 'Chris', ' Katrina', 'Scarlett']"
            ]
          },
          "metadata": {},
          "execution_count": 14
        }
      ]
    },
    {
      "cell_type": "code",
      "source": [
        "#replace values\n",
        "students[0]= \"sam\"\n",
        "#replacing the 1st value int the list with sam"
      ],
      "metadata": {
        "id": "0pWgJWqaCp8k"
      },
      "execution_count": 15,
      "outputs": []
    },
    {
      "cell_type": "code",
      "source": [
        "students\n",
        "#printed the list of students with the new replacements"
      ],
      "metadata": {
        "colab": {
          "base_uri": "https://localhost:8080/"
        },
        "id": "4auQEJHIC1KQ",
        "outputId": "0f79ef1d-a344-438c-c1a3-45588b37bb75"
      },
      "execution_count": 16,
      "outputs": [
        {
          "output_type": "execute_result",
          "data": {
            "text/plain": [
              "['sam', 'Chris', ' Katrina', 'Scarlett']"
            ]
          },
          "metadata": {},
          "execution_count": 16
        }
      ]
    },
    {
      "cell_type": "code",
      "source": [
        "#Add Values\n",
        "students.append(\"paul\")\n",
        "students\n",
        "#added the value paul to the list of students "
      ],
      "metadata": {
        "colab": {
          "base_uri": "https://localhost:8080/"
        },
        "id": "PCn_KY8OC4jS",
        "outputId": "616da2ad-c00b-4a38-8430-eb739f83530e"
      },
      "execution_count": 17,
      "outputs": [
        {
          "output_type": "execute_result",
          "data": {
            "text/plain": [
              "['sam', 'Chris', ' Katrina', 'Scarlett', 'paul']"
            ]
          },
          "metadata": {},
          "execution_count": 17
        }
      ]
    },
    {
      "cell_type": "code",
      "source": [
        "#remove Values\n",
        "students.remove(\"Scarlett\")\n",
        "students\n",
        "#removed the 4th value scarlett from the list students"
      ],
      "metadata": {
        "colab": {
          "base_uri": "https://localhost:8080/"
        },
        "id": "wBqOT0YlDQ0a",
        "outputId": "951b27be-5140-43a0-8d91-982e5b41ebbe"
      },
      "execution_count": 18,
      "outputs": [
        {
          "output_type": "execute_result",
          "data": {
            "text/plain": [
              "['sam', 'Chris', ' Katrina', 'paul']"
            ]
          },
          "metadata": {},
          "execution_count": 18
        }
      ]
    },
    {
      "cell_type": "code",
      "source": [
        "list1 = ['one', 'two', 'three', 'four', 'five']"
      ],
      "metadata": {
        "id": "06-7rqB8DYnb"
      },
      "execution_count": 19,
      "outputs": []
    },
    {
      "cell_type": "code",
      "source": [
        "list1.pop(2)\n",
        "#used the pop function to remove three the list and print it"
      ],
      "metadata": {
        "colab": {
          "base_uri": "https://localhost:8080/",
          "height": 35
        },
        "id": "ht6kbtCODio2",
        "outputId": "ffa51160-edb6-4e98-93e7-21529d3acc7b"
      },
      "execution_count": 20,
      "outputs": [
        {
          "output_type": "execute_result",
          "data": {
            "text/plain": [
              "'three'"
            ],
            "application/vnd.google.colaboratory.intrinsic+json": {
              "type": "string"
            }
          },
          "metadata": {},
          "execution_count": 20
        }
      ]
    },
    {
      "cell_type": "code",
      "source": [
        "list1\n",
        "#printed the newly edited list"
      ],
      "metadata": {
        "colab": {
          "base_uri": "https://localhost:8080/"
        },
        "id": "QAvsMCIFDlIY",
        "outputId": "963dde1b-15f5-4c17-8131-9316ba929bea"
      },
      "execution_count": 21,
      "outputs": [
        {
          "output_type": "execute_result",
          "data": {
            "text/plain": [
              "['one', 'two', 'four', 'five']"
            ]
          },
          "metadata": {},
          "execution_count": 21
        }
      ]
    },
    {
      "cell_type": "markdown",
      "source": [
        "### 4) Add list into list"
      ],
      "metadata": {
        "id": "tyRkv1nBDtBl"
      }
    },
    {
      "cell_type": "code",
      "source": [
        "color = ['red', 'green', 'blue', 'violet']\n",
        "#created new list named color"
      ],
      "metadata": {
        "id": "auwPWae4D9yd"
      },
      "execution_count": 22,
      "outputs": []
    },
    {
      "cell_type": "code",
      "source": [
        "color"
      ],
      "metadata": {
        "colab": {
          "base_uri": "https://localhost:8080/"
        },
        "id": "KYmmb8yUEF5b",
        "outputId": "8b9e69d6-a75c-4665-ab13-4d6ccf3fe8fc"
      },
      "execution_count": 23,
      "outputs": [
        {
          "output_type": "execute_result",
          "data": {
            "text/plain": [
              "['red', 'green', 'blue', 'violet']"
            ]
          },
          "metadata": {},
          "execution_count": 23
        }
      ]
    },
    {
      "cell_type": "code",
      "source": [
        "age = [21, 23,25, 27]\n",
        "#created the new list named age"
      ],
      "metadata": {
        "id": "62YfFyB9EGoT"
      },
      "execution_count": 24,
      "outputs": []
    },
    {
      "cell_type": "code",
      "source": [
        "age"
      ],
      "metadata": {
        "colab": {
          "base_uri": "https://localhost:8080/"
        },
        "id": "vyz4dOduEMkz",
        "outputId": "5e967416-b99b-4a51-a77d-0da52bfb4c47"
      },
      "execution_count": 25,
      "outputs": [
        {
          "output_type": "execute_result",
          "data": {
            "text/plain": [
              "[21, 23, 25, 27]"
            ]
          },
          "metadata": {},
          "execution_count": 25
        }
      ]
    },
    {
      "cell_type": "code",
      "source": [
        "color.extend(age)\n",
        "#uses extend function to add list age to the list color"
      ],
      "metadata": {
        "id": "cJxgc3iDEM9B"
      },
      "execution_count": 26,
      "outputs": []
    },
    {
      "cell_type": "code",
      "source": [
        "color\n",
        "#printed the newly edited list color"
      ],
      "metadata": {
        "colab": {
          "base_uri": "https://localhost:8080/"
        },
        "id": "eBK6HZ52EPDO",
        "outputId": "34d66d45-f20f-4e99-ff97-3abe1b59a1cf"
      },
      "execution_count": 27,
      "outputs": [
        {
          "output_type": "execute_result",
          "data": {
            "text/plain": [
              "['red', 'green', 'blue', 'violet', 21, 23, 25, 27]"
            ]
          },
          "metadata": {},
          "execution_count": 27
        }
      ]
    },
    {
      "cell_type": "markdown",
      "source": [
        "### 5) Python in-build functions with the list's"
      ],
      "metadata": {
        "id": "dw_xusRKEPzg"
      }
    },
    {
      "cell_type": "code",
      "source": [
        "even = [2, 4, 6, 8, ]\n",
        "odd = [1, 3, 5, 7, 9]\n",
        "#created one even list and one odd list"
      ],
      "metadata": {
        "id": "5wYpIM-wEaB7"
      },
      "execution_count": 28,
      "outputs": []
    },
    {
      "cell_type": "code",
      "source": [
        "numbers = even + odd\n",
        "#combined the list into new list called numbers"
      ],
      "metadata": {
        "id": "b02ViAR7E9dL"
      },
      "execution_count": 29,
      "outputs": []
    },
    {
      "cell_type": "code",
      "source": [
        "numbers"
      ],
      "metadata": {
        "colab": {
          "base_uri": "https://localhost:8080/"
        },
        "id": "XA58PTZVFBKN",
        "outputId": "d13f410b-4c06-4213-9bf6-74ceea624089"
      },
      "execution_count": 30,
      "outputs": [
        {
          "output_type": "execute_result",
          "data": {
            "text/plain": [
              "[2, 4, 6, 8, 1, 3, 5, 7, 9]"
            ]
          },
          "metadata": {},
          "execution_count": 30
        }
      ]
    },
    {
      "cell_type": "code",
      "source": [
        "print(sorted(numbers))\n",
        "#printed sorted version of list numbers"
      ],
      "metadata": {
        "colab": {
          "base_uri": "https://localhost:8080/"
        },
        "id": "O4Zfk3C_FB2x",
        "outputId": "8803a7c3-e03b-4882-fb47-5eaf4bfb9d53"
      },
      "execution_count": 31,
      "outputs": [
        {
          "output_type": "stream",
          "name": "stdout",
          "text": [
            "[1, 2, 3, 4, 5, 6, 7, 8, 9]\n"
          ]
        }
      ]
    },
    {
      "cell_type": "code",
      "source": [
        "len(numbers)\n",
        "#used len function to geth the length of list numbers"
      ],
      "metadata": {
        "colab": {
          "base_uri": "https://localhost:8080/"
        },
        "id": "iZ8k0L63FLrg",
        "outputId": "afe31054-b7bc-49b4-9018-e4748990394c"
      },
      "execution_count": 32,
      "outputs": [
        {
          "output_type": "execute_result",
          "data": {
            "text/plain": [
              "9"
            ]
          },
          "metadata": {},
          "execution_count": 32
        }
      ]
    },
    {
      "cell_type": "code",
      "source": [
        "max(numbers)\n",
        "#used max function to the largest value in list numbers"
      ],
      "metadata": {
        "colab": {
          "base_uri": "https://localhost:8080/"
        },
        "id": "eNl12GA3Fk_1",
        "outputId": "366926fc-7f4d-4aeb-e2dc-10c705d0dd07"
      },
      "execution_count": 33,
      "outputs": [
        {
          "output_type": "execute_result",
          "data": {
            "text/plain": [
              "9"
            ]
          },
          "metadata": {},
          "execution_count": 33
        }
      ]
    },
    {
      "cell_type": "code",
      "source": [
        "min(numbers)\n",
        "#used the min function to get the smallest value in list numbers"
      ],
      "metadata": {
        "colab": {
          "base_uri": "https://localhost:8080/"
        },
        "id": "sBPUGTphFnWR",
        "outputId": "660e078d-6bcf-4a37-95e8-151f6126c44c"
      },
      "execution_count": 34,
      "outputs": [
        {
          "output_type": "execute_result",
          "data": {
            "text/plain": [
              "1"
            ]
          },
          "metadata": {},
          "execution_count": 34
        }
      ]
    },
    {
      "cell_type": "markdown",
      "source": [
        "##Dictionaries"
      ],
      "metadata": {
        "id": "Gd9dOC5IFrIn"
      }
    },
    {
      "cell_type": "markdown",
      "source": [
        "###Defining Dictionaries"
      ],
      "metadata": {
        "id": "JcrLTkvksg58"
      }
    },
    {
      "cell_type": "code",
      "source": [
        "my_dict = {\"key1\" : \"value1\", \"key2\":\"value2\" }\n",
        "my_dict\n",
        "#created new dictionary called my_dict"
      ],
      "metadata": {
        "colab": {
          "base_uri": "https://localhost:8080/"
        },
        "id": "zsltcfbes7Tg",
        "outputId": "57ea25a8-00e8-43e1-fe50-81593464524e"
      },
      "execution_count": 36,
      "outputs": [
        {
          "output_type": "execute_result",
          "data": {
            "text/plain": [
              "{'key1': 'value1', 'key2': 'value2'}"
            ]
          },
          "metadata": {},
          "execution_count": 36
        }
      ]
    },
    {
      "cell_type": "code",
      "source": [
        "my_dict[\"key1\"]\n",
        "#showed the 1 item in the dictionary using key1"
      ],
      "metadata": {
        "colab": {
          "base_uri": "https://localhost:8080/",
          "height": 35
        },
        "id": "UFkF-hH5tJ2G",
        "outputId": "f37b4bd1-42c5-49d5-c733-7e2dafb93617"
      },
      "execution_count": 37,
      "outputs": [
        {
          "output_type": "execute_result",
          "data": {
            "text/plain": [
              "'value1'"
            ],
            "application/vnd.google.colaboratory.intrinsic+json": {
              "type": "string"
            }
          },
          "metadata": {},
          "execution_count": 37
        }
      ]
    },
    {
      "cell_type": "code",
      "source": [
        "fruits = {'Apple':3, 'Bannana':1.75, \"Cherry\":2}\n",
        "fruits\n",
        "fruits['Apple']\n",
        "#created new dictionary called fruit"
      ],
      "metadata": {
        "colab": {
          "base_uri": "https://localhost:8080/"
        },
        "id": "4UEHvhjktQxp",
        "outputId": "72a9e3dd-de33-45e3-c61a-8815b5b488dd"
      },
      "execution_count": 38,
      "outputs": [
        {
          "output_type": "execute_result",
          "data": {
            "text/plain": [
              "3"
            ]
          },
          "metadata": {},
          "execution_count": 38
        }
      ]
    },
    {
      "cell_type": "code",
      "source": [
        "new_dict = {'k1':147, 'k2':[15, 25, 35], 'k3':{'apple':3}}\n",
        "#created new dictionary with a list and another dictionary in it"
      ],
      "metadata": {
        "id": "SlUK-suStjJ6"
      },
      "execution_count": 39,
      "outputs": []
    },
    {
      "cell_type": "code",
      "source": [
        "new_dict['k2']\n",
        "#looked at list within dictionary using key k2"
      ],
      "metadata": {
        "colab": {
          "base_uri": "https://localhost:8080/"
        },
        "id": "n4hgAd1Pt0UD",
        "outputId": "b0fd7d13-a87e-41ed-92a0-00dc849967c2"
      },
      "execution_count": 40,
      "outputs": [
        {
          "output_type": "execute_result",
          "data": {
            "text/plain": [
              "[15, 25, 35]"
            ]
          },
          "metadata": {},
          "execution_count": 40
        }
      ]
    },
    {
      "cell_type": "code",
      "source": [
        "new_dict['k2'][1]"
      ],
      "metadata": {
        "colab": {
          "base_uri": "https://localhost:8080/"
        },
        "id": "oqgjU7N7t2YX",
        "outputId": "55733ca6-09dd-4bcb-9699-64545be1a0a6"
      },
      "execution_count": 41,
      "outputs": [
        {
          "output_type": "execute_result",
          "data": {
            "text/plain": [
              "25"
            ]
          },
          "metadata": {},
          "execution_count": 41
        }
      ]
    },
    {
      "cell_type": "code",
      "source": [
        "new_dict['k3']"
      ],
      "metadata": {
        "colab": {
          "base_uri": "https://localhost:8080/"
        },
        "id": "m4FXzhZ9t6AJ",
        "outputId": "6f61f21a-e3a4-4abe-d7f0-73538ddcce0b"
      },
      "execution_count": 42,
      "outputs": [
        {
          "output_type": "execute_result",
          "data": {
            "text/plain": [
              "{'apple': 3}"
            ]
          },
          "metadata": {},
          "execution_count": 42
        }
      ]
    },
    {
      "cell_type": "code",
      "source": [
        "new_dict['k3']['apple']"
      ],
      "metadata": {
        "colab": {
          "base_uri": "https://localhost:8080/"
        },
        "id": "ffpmPLmQuD2u",
        "outputId": "463eab88-4261-4eae-f0e5-dbb8e9b7b212"
      },
      "execution_count": 43,
      "outputs": [
        {
          "output_type": "execute_result",
          "data": {
            "text/plain": [
              "3"
            ]
          },
          "metadata": {},
          "execution_count": 43
        }
      ]
    },
    {
      "cell_type": "code",
      "source": [
        "d = {'students': ['a', 'b', 'c', 'd', 'f', '5', 'whater ever', '4', 'u', 'p']}"
      ],
      "metadata": {
        "id": "PVH525ShuJYg"
      },
      "execution_count": 47,
      "outputs": []
    },
    {
      "cell_type": "code",
      "source": [
        "d"
      ],
      "metadata": {
        "colab": {
          "base_uri": "https://localhost:8080/"
        },
        "id": "rj41qo68uXH-",
        "outputId": "7782fe05-e3a1-48c7-d5d6-4340fe1d17bb"
      },
      "execution_count": 48,
      "outputs": [
        {
          "output_type": "execute_result",
          "data": {
            "text/plain": [
              "{'students': ['a', 'b', 'c', 'd', 'f', '5', 'whater ever', '4', 'u', 'p']}"
            ]
          },
          "metadata": {},
          "execution_count": 48
        }
      ]
    },
    {
      "cell_type": "code",
      "source": [
        "d['students'][-1]\n",
        "#looked at last item in list students in dictionary d using -1"
      ],
      "metadata": {
        "colab": {
          "base_uri": "https://localhost:8080/",
          "height": 35
        },
        "id": "042vFQwfuXvW",
        "outputId": "cddebbc2-c517-4755-a377-9f73910fc72b"
      },
      "execution_count": 49,
      "outputs": [
        {
          "output_type": "execute_result",
          "data": {
            "text/plain": [
              "'p'"
            ],
            "application/vnd.google.colaboratory.intrinsic+json": {
              "type": "string"
            }
          },
          "metadata": {},
          "execution_count": 49
        }
      ]
    },
    {
      "cell_type": "code",
      "source": [
        "d['students'][3].upper()\n",
        "#converted lowercass d to upper case D using function upper"
      ],
      "metadata": {
        "colab": {
          "base_uri": "https://localhost:8080/",
          "height": 35
        },
        "id": "44zqdUr7ua4L",
        "outputId": "bec695bf-1ce4-4680-801f-eebecdefa788"
      },
      "execution_count": 52,
      "outputs": [
        {
          "output_type": "execute_result",
          "data": {
            "text/plain": [
              "'D'"
            ],
            "application/vnd.google.colaboratory.intrinsic+json": {
              "type": "string"
            }
          },
          "metadata": {},
          "execution_count": 52
        }
      ]
    },
    {
      "cell_type": "markdown",
      "source": [
        "###2 Add Value"
      ],
      "metadata": {
        "id": "mzjWNBVCvcyf"
      }
    },
    {
      "cell_type": "code",
      "source": [
        "d = {'k1':100, 'k2':200}"
      ],
      "metadata": {
        "id": "ADMzhu_2v1t7"
      },
      "execution_count": 53,
      "outputs": []
    },
    {
      "cell_type": "code",
      "source": [
        "d['k1']"
      ],
      "metadata": {
        "colab": {
          "base_uri": "https://localhost:8080/"
        },
        "id": "iZFiYzVlv9OE",
        "outputId": "d8af1629-7411-41ca-e510-ddc7db39593a"
      },
      "execution_count": 54,
      "outputs": [
        {
          "output_type": "execute_result",
          "data": {
            "text/plain": [
              "100"
            ]
          },
          "metadata": {},
          "execution_count": 54
        }
      ]
    },
    {
      "cell_type": "code",
      "source": [
        "d['k3'] = 300\n",
        "#added new value to dictionary"
      ],
      "metadata": {
        "id": "KydmzcKjv-_a"
      },
      "execution_count": 55,
      "outputs": []
    },
    {
      "cell_type": "code",
      "source": [
        "d"
      ],
      "metadata": {
        "colab": {
          "base_uri": "https://localhost:8080/"
        },
        "id": "AUJrRwTSwFKt",
        "outputId": "2bdb1d1a-95d0-484a-aea3-e161e14a47c5"
      },
      "execution_count": 60,
      "outputs": [
        {
          "output_type": "execute_result",
          "data": {
            "text/plain": [
              "{'k1': 'new value', 'k2': 200, 'k3': 300}"
            ]
          },
          "metadata": {},
          "execution_count": 60
        }
      ]
    },
    {
      "cell_type": "code",
      "source": [
        "d['k1'] = 'new value'"
      ],
      "metadata": {
        "id": "KasERmutwHls"
      },
      "execution_count": 57,
      "outputs": []
    },
    {
      "cell_type": "code",
      "source": [
        "d.keys()"
      ],
      "metadata": {
        "colab": {
          "base_uri": "https://localhost:8080/"
        },
        "id": "O6PUldG-wkI-",
        "outputId": "e1370d56-db39-4ba6-9a19-37a866419670"
      },
      "execution_count": 61,
      "outputs": [
        {
          "output_type": "execute_result",
          "data": {
            "text/plain": [
              "dict_keys(['k1', 'k2', 'k3'])"
            ]
          },
          "metadata": {},
          "execution_count": 61
        }
      ]
    },
    {
      "cell_type": "code",
      "source": [
        "d.values()"
      ],
      "metadata": {
        "colab": {
          "base_uri": "https://localhost:8080/"
        },
        "id": "4i3B-7mFwNIP",
        "outputId": "d4a04666-b315-4369-c09b-ea3ba2fbad0a"
      },
      "execution_count": 59,
      "outputs": [
        {
          "output_type": "execute_result",
          "data": {
            "text/plain": [
              "dict_values(['new value', 200, 300])"
            ]
          },
          "metadata": {},
          "execution_count": 59
        }
      ]
    },
    {
      "cell_type": "code",
      "source": [
        "d.items()"
      ],
      "metadata": {
        "colab": {
          "base_uri": "https://localhost:8080/"
        },
        "id": "1_6QUrQuwdF3",
        "outputId": "1ed0d217-4498-4756-aa9c-a2ac29d3c593"
      },
      "execution_count": 62,
      "outputs": [
        {
          "output_type": "execute_result",
          "data": {
            "text/plain": [
              "dict_items([('k1', 'new value'), ('k2', 200), ('k3', 300)])"
            ]
          },
          "metadata": {},
          "execution_count": 62
        }
      ]
    },
    {
      "cell_type": "markdown",
      "source": [
        "##Tuples"
      ],
      "metadata": {
        "id": "9OisiRvowmtU"
      }
    },
    {
      "cell_type": "markdown",
      "source": [
        "###Define a tuple"
      ],
      "metadata": {
        "id": "pa71hGw3A5Oi"
      }
    },
    {
      "cell_type": "code",
      "source": [
        "prime_numbers = (2, 3, 5, 7, 11)\n",
        "#tuple defined with parenthesis"
      ],
      "metadata": {
        "id": "Ha1FmZ-gBBBY"
      },
      "execution_count": 65,
      "outputs": []
    },
    {
      "cell_type": "code",
      "source": [
        "prime_numbers"
      ],
      "metadata": {
        "colab": {
          "base_uri": "https://localhost:8080/"
        },
        "id": "TxKacNlPBMPi",
        "outputId": "11525afe-71a2-4fdf-ebb3-dfac74314957"
      },
      "execution_count": 66,
      "outputs": [
        {
          "output_type": "execute_result",
          "data": {
            "text/plain": [
              "(2, 3, 5, 7, 11)"
            ]
          },
          "metadata": {},
          "execution_count": 66
        }
      ]
    },
    {
      "cell_type": "code",
      "source": [
        "type(prime_numbers)"
      ],
      "metadata": {
        "colab": {
          "base_uri": "https://localhost:8080/"
        },
        "id": "1CTDZL0oBN_G",
        "outputId": "8635a3f2-d309-420e-f9b3-c4810aa7c78d"
      },
      "execution_count": 67,
      "outputs": [
        {
          "output_type": "execute_result",
          "data": {
            "text/plain": [
              "tuple"
            ]
          },
          "metadata": {},
          "execution_count": 67
        }
      ]
    },
    {
      "cell_type": "code",
      "source": [
        "perfect_squares = [1, 4, 9, 16, 25, 36]\n",
        "type(perfect_squares)"
      ],
      "metadata": {
        "colab": {
          "base_uri": "https://localhost:8080/"
        },
        "id": "t-zci2b2BQgA",
        "outputId": "5778d94e-f592-4065-9559-3e00f7dcac7f"
      },
      "execution_count": 68,
      "outputs": [
        {
          "output_type": "execute_result",
          "data": {
            "text/plain": [
              "list"
            ]
          },
          "metadata": {},
          "execution_count": 68
        }
      ]
    },
    {
      "cell_type": "code",
      "source": [
        "len(prime_numbers)"
      ],
      "metadata": {
        "colab": {
          "base_uri": "https://localhost:8080/"
        },
        "id": "g5YIemxrBorh",
        "outputId": "3a18b8b5-eaaa-4320-9c60-392d22a2bb32"
      },
      "execution_count": 69,
      "outputs": [
        {
          "output_type": "execute_result",
          "data": {
            "text/plain": [
              "5"
            ]
          },
          "metadata": {},
          "execution_count": 69
        }
      ]
    },
    {
      "cell_type": "code",
      "source": [
        "len(perfect_squares)"
      ],
      "metadata": {
        "colab": {
          "base_uri": "https://localhost:8080/"
        },
        "id": "f-l39WNDBrC-",
        "outputId": "99a592eb-57e5-406b-bd6c-e289c094276d"
      },
      "execution_count": 70,
      "outputs": [
        {
          "output_type": "execute_result",
          "data": {
            "text/plain": [
              "6"
            ]
          },
          "metadata": {},
          "execution_count": 70
        }
      ]
    },
    {
      "cell_type": "code",
      "source": [
        "my_tuple = ('hieeee', 100, 12.47, 100)\n",
        "my_tuple"
      ],
      "metadata": {
        "colab": {
          "base_uri": "https://localhost:8080/"
        },
        "id": "NOkdkYMsBvcL",
        "outputId": "5b1c6d79-1702-4a52-860c-18b82202bcf3"
      },
      "execution_count": 81,
      "outputs": [
        {
          "output_type": "execute_result",
          "data": {
            "text/plain": [
              "('hieeee', 100, 12.47, 100)"
            ]
          },
          "metadata": {},
          "execution_count": 81
        }
      ]
    },
    {
      "cell_type": "markdown",
      "source": [
        "###indexing in Tuples"
      ],
      "metadata": {
        "id": "ZYMv4HcUB2hy"
      }
    },
    {
      "cell_type": "code",
      "source": [
        "my_tuple[0]"
      ],
      "metadata": {
        "colab": {
          "base_uri": "https://localhost:8080/",
          "height": 35
        },
        "id": "pILZSMb8B9o5",
        "outputId": "e497afbd-1769-4ac1-e309-b38f799fe9f0"
      },
      "execution_count": 72,
      "outputs": [
        {
          "output_type": "execute_result",
          "data": {
            "text/plain": [
              "'hieeee'"
            ],
            "application/vnd.google.colaboratory.intrinsic+json": {
              "type": "string"
            }
          },
          "metadata": {},
          "execution_count": 72
        }
      ]
    },
    {
      "cell_type": "code",
      "source": [
        "my_tuple[1]"
      ],
      "metadata": {
        "colab": {
          "base_uri": "https://localhost:8080/"
        },
        "id": "r1p1W1h6CAqr",
        "outputId": "016ce88d-dcc3-4e40-ff9c-f7ee996be098"
      },
      "execution_count": 73,
      "outputs": [
        {
          "output_type": "execute_result",
          "data": {
            "text/plain": [
              "100"
            ]
          },
          "metadata": {},
          "execution_count": 73
        }
      ]
    },
    {
      "cell_type": "code",
      "source": [
        "my_tuple[0:2]\n",
        "#slicing tuple from start n-1; is not inclusive"
      ],
      "metadata": {
        "colab": {
          "base_uri": "https://localhost:8080/"
        },
        "id": "TDZjCy6DCC3K",
        "outputId": "ab9edd0c-691c-42eb-ee18-daf18ba95cdd"
      },
      "execution_count": 78,
      "outputs": [
        {
          "output_type": "execute_result",
          "data": {
            "text/plain": [
              "('hieeee', 100)"
            ]
          },
          "metadata": {},
          "execution_count": 78
        }
      ]
    },
    {
      "cell_type": "code",
      "source": [
        "perfect_squares = [1, 4, 9, 16, 25, 36, 49, 64, 81, 100, 121]\n",
        "perfect_squares[2:6]\n",
        "#slicing list"
      ],
      "metadata": {
        "colab": {
          "base_uri": "https://localhost:8080/"
        },
        "id": "mjzPEZ2wCHis",
        "outputId": "ca67632a-73f1-4d41-e79f-2cd348412964"
      },
      "execution_count": 79,
      "outputs": [
        {
          "output_type": "execute_result",
          "data": {
            "text/plain": [
              "[9, 16, 25, 36]"
            ]
          },
          "metadata": {},
          "execution_count": 79
        }
      ]
    },
    {
      "cell_type": "code",
      "source": [
        "my_tuple.count(100)\n"
      ],
      "metadata": {
        "colab": {
          "base_uri": "https://localhost:8080/"
        },
        "id": "nuuB29haC9-3",
        "outputId": "4797dc93-fee0-40e5-ced9-f668bd9c6a3c"
      },
      "execution_count": 82,
      "outputs": [
        {
          "output_type": "execute_result",
          "data": {
            "text/plain": [
              "2"
            ]
          },
          "metadata": {},
          "execution_count": 82
        }
      ]
    },
    {
      "cell_type": "markdown",
      "source": [
        "##Sets"
      ],
      "metadata": {
        "id": "hs5Ep6RyDnGK"
      }
    },
    {
      "cell_type": "code",
      "source": [
        "my_set = set();\n",
        "#defining a set\n",
        "#items within a set cannot repeat"
      ],
      "metadata": {
        "id": "2rXnPhHrDs3q"
      },
      "execution_count": 84,
      "outputs": []
    },
    {
      "cell_type": "code",
      "source": [
        "my_list = [1, 1, 1,2, 2, 3, 'Apple', 'Apple']"
      ],
      "metadata": {
        "id": "1dVEL_tKEBkE"
      },
      "execution_count": 85,
      "outputs": []
    },
    {
      "cell_type": "code",
      "source": [
        "set(my_list)"
      ],
      "metadata": {
        "colab": {
          "base_uri": "https://localhost:8080/"
        },
        "id": "Is_e-pNgEKgj",
        "outputId": "2830dbd3-ad0e-44c3-ee27-52891babc027"
      },
      "execution_count": 86,
      "outputs": [
        {
          "output_type": "execute_result",
          "data": {
            "text/plain": [
              "{1, 2, 3, 'Apple'}"
            ]
          },
          "metadata": {},
          "execution_count": 86
        }
      ]
    },
    {
      "cell_type": "code",
      "source": [
        "my_set"
      ],
      "metadata": {
        "colab": {
          "base_uri": "https://localhost:8080/"
        },
        "id": "HaTgKIwyEMYj",
        "outputId": "7f7579fc-6ea0-486d-92f1-39aaa65f5985"
      },
      "execution_count": 87,
      "outputs": [
        {
          "output_type": "execute_result",
          "data": {
            "text/plain": [
              "set()"
            ]
          },
          "metadata": {},
          "execution_count": 87
        }
      ]
    },
    {
      "cell_type": "code",
      "source": [
        "my_set.add(23)"
      ],
      "metadata": {
        "id": "0MJtlKS0EOGO"
      },
      "execution_count": 88,
      "outputs": []
    },
    {
      "cell_type": "code",
      "source": [
        "my_set"
      ],
      "metadata": {
        "colab": {
          "base_uri": "https://localhost:8080/"
        },
        "id": "8Bz2OJTeETxr",
        "outputId": "73ba93ae-d249-400d-97bc-fa192922462c"
      },
      "execution_count": 89,
      "outputs": [
        {
          "output_type": "execute_result",
          "data": {
            "text/plain": [
              "{23}"
            ]
          },
          "metadata": {},
          "execution_count": 89
        }
      ]
    },
    {
      "cell_type": "code",
      "source": [
        "my_set.add(22)"
      ],
      "metadata": {
        "id": "8TIXldcxEUnl"
      },
      "execution_count": 92,
      "outputs": []
    },
    {
      "cell_type": "code",
      "source": [
        "my_set.add(23)"
      ],
      "metadata": {
        "id": "X3grNS2eEYed"
      },
      "execution_count": 93,
      "outputs": []
    },
    {
      "cell_type": "code",
      "source": [
        "my_set"
      ],
      "metadata": {
        "colab": {
          "base_uri": "https://localhost:8080/"
        },
        "id": "ZB0bHw6aEZQJ",
        "outputId": "66ab933f-756a-419a-ec8d-663c46c0d417"
      },
      "execution_count": 94,
      "outputs": [
        {
          "output_type": "execute_result",
          "data": {
            "text/plain": [
              "{22, 23}"
            ]
          },
          "metadata": {},
          "execution_count": 94
        }
      ]
    },
    {
      "cell_type": "markdown",
      "source": [
        "## String ... P2"
      ],
      "metadata": {
        "id": "cuamEL3pEdH1"
      }
    },
    {
      "cell_type": "markdown",
      "source": [
        "###Concatenation of strings"
      ],
      "metadata": {
        "id": "k5gMiARmEuHW"
      }
    },
    {
      "cell_type": "code",
      "source": [
        ""
      ],
      "metadata": {
        "id": "TboVcEkbFGeu"
      },
      "execution_count": null,
      "outputs": []
    },
    {
      "cell_type": "code",
      "source": [
        "greeting = 'hello'"
      ],
      "metadata": {
        "id": "j5DDfQh-E7LT"
      },
      "execution_count": 99,
      "outputs": []
    },
    {
      "cell_type": "code",
      "source": [
        "name = 'Mark'"
      ],
      "metadata": {
        "id": "6BOdG0XNE91J"
      },
      "execution_count": 100,
      "outputs": []
    },
    {
      "cell_type": "code",
      "source": [
        "print(greeting + name)"
      ],
      "metadata": {
        "colab": {
          "base_uri": "https://localhost:8080/"
        },
        "id": "k7eesAlFFAs4",
        "outputId": "adce1878-6fca-4c50-935c-2f5f6779ae9b"
      },
      "execution_count": 101,
      "outputs": [
        {
          "output_type": "stream",
          "name": "stdout",
          "text": [
            "helloMark\n"
          ]
        }
      ]
    },
    {
      "cell_type": "code",
      "source": [
        "print(greeting + ' '+ name)"
      ],
      "metadata": {
        "colab": {
          "base_uri": "https://localhost:8080/"
        },
        "id": "Levum9WTFE7B",
        "outputId": "360ae18a-9103-474c-b9f7-26a6b807c7c8"
      },
      "execution_count": 102,
      "outputs": [
        {
          "output_type": "stream",
          "name": "stdout",
          "text": [
            "hello Mark\n"
          ]
        }
      ]
    },
    {
      "cell_type": "markdown",
      "source": [
        "###input function"
      ],
      "metadata": {
        "id": "GqUZzNC9FMH_"
      }
    },
    {
      "cell_type": "code",
      "source": [
        "name = input(\"What is your name?: \")"
      ],
      "metadata": {
        "colab": {
          "base_uri": "https://localhost:8080/"
        },
        "id": "SGnvJ2qnFW0Y",
        "outputId": "0fb8eeb1-0603-422b-86ea-1d064d307a68"
      },
      "execution_count": 105,
      "outputs": [
        {
          "name": "stdout",
          "output_type": "stream",
          "text": [
            "What is your name?: Jason\n"
          ]
        }
      ]
    },
    {
      "cell_type": "code",
      "source": [
        "print(greeting +' '+ name)"
      ],
      "metadata": {
        "colab": {
          "base_uri": "https://localhost:8080/"
        },
        "id": "5k9g-65TFmvk",
        "outputId": "5e44a52f-d00a-4943-9f5b-d04baed61b91"
      },
      "execution_count": 107,
      "outputs": [
        {
          "output_type": "stream",
          "name": "stdout",
          "text": [
            "hello Jason\n"
          ]
        }
      ]
    },
    {
      "cell_type": "markdown",
      "source": [
        "###indexing strings"
      ],
      "metadata": {
        "id": "o1iU-Pi6FrpB"
      }
    },
    {
      "cell_type": "code",
      "source": [
        "color = 'orange'"
      ],
      "metadata": {
        "id": "ntWkRrsAF_7B"
      },
      "execution_count": 108,
      "outputs": []
    },
    {
      "cell_type": "code",
      "source": [
        "len(color)\n",
        "#gives total number of letters"
      ],
      "metadata": {
        "colab": {
          "base_uri": "https://localhost:8080/"
        },
        "id": "GWcnEodVGBxu",
        "outputId": "d5d212a9-9445-4783-e461-6285bddb3bfa"
      },
      "execution_count": 109,
      "outputs": [
        {
          "output_type": "execute_result",
          "data": {
            "text/plain": [
              "6"
            ]
          },
          "metadata": {},
          "execution_count": 109
        }
      ]
    },
    {
      "cell_type": "code",
      "source": [
        "color[3]"
      ],
      "metadata": {
        "colab": {
          "base_uri": "https://localhost:8080/",
          "height": 35
        },
        "id": "EQFjQwkiGGli",
        "outputId": "1ce39b33-a7e5-4e66-e57e-ceb46977947b"
      },
      "execution_count": 110,
      "outputs": [
        {
          "output_type": "execute_result",
          "data": {
            "text/plain": [
              "'n'"
            ],
            "application/vnd.google.colaboratory.intrinsic+json": {
              "type": "string"
            }
          },
          "metadata": {},
          "execution_count": 110
        }
      ]
    },
    {
      "cell_type": "code",
      "source": [
        "color[2]"
      ],
      "metadata": {
        "colab": {
          "base_uri": "https://localhost:8080/",
          "height": 35
        },
        "id": "FlGMcFDNGLHt",
        "outputId": "2fb836af-dc79-43ae-80c7-4511db7c89ce"
      },
      "execution_count": 111,
      "outputs": [
        {
          "output_type": "execute_result",
          "data": {
            "text/plain": [
              "'a'"
            ],
            "application/vnd.google.colaboratory.intrinsic+json": {
              "type": "string"
            }
          },
          "metadata": {},
          "execution_count": 111
        }
      ]
    },
    {
      "cell_type": "code",
      "source": [
        "color[2:-1]"
      ],
      "metadata": {
        "colab": {
          "base_uri": "https://localhost:8080/",
          "height": 35
        },
        "id": "-PumiiOEGM2W",
        "outputId": "e3b4421a-430e-46d0-c701-12d8827402d1"
      },
      "execution_count": 112,
      "outputs": [
        {
          "output_type": "execute_result",
          "data": {
            "text/plain": [
              "'ang'"
            ],
            "application/vnd.google.colaboratory.intrinsic+json": {
              "type": "string"
            }
          },
          "metadata": {},
          "execution_count": 112
        }
      ]
    },
    {
      "cell_type": "markdown",
      "source": [
        "###string Formatting"
      ],
      "metadata": {
        "id": "7BvYNp4hGSDT"
      }
    },
    {
      "cell_type": "code",
      "source": [
        "age = 27\n",
        "#must represent integer as string because integer var do not mix with string"
      ],
      "metadata": {
        "id": "v-w58l45Gg4r"
      },
      "execution_count": 119,
      "outputs": []
    },
    {
      "cell_type": "code",
      "source": [
        "print('My age is '+ str(age)+' years old.')\n",
        "#str() acts as string formatting"
      ],
      "metadata": {
        "colab": {
          "base_uri": "https://localhost:8080/"
        },
        "id": "AQ7gkR4vGga4",
        "outputId": "ea842539-d104-4463-81d4-1ed3f16be2ad"
      },
      "execution_count": 120,
      "outputs": [
        {
          "output_type": "stream",
          "name": "stdout",
          "text": [
            "My age is 27 years old.\n"
          ]
        }
      ]
    },
    {
      "cell_type": "code",
      "source": [
        "print('The colors are {} {} {} '.format('red', 'green', 'blue '))"
      ],
      "metadata": {
        "colab": {
          "base_uri": "https://localhost:8080/"
        },
        "id": "JxgI7hmPGrN4",
        "outputId": "6ea606da-8c57-4ba4-e2a6-f59b474abbca"
      },
      "execution_count": 122,
      "outputs": [
        {
          "output_type": "stream",
          "name": "stdout",
          "text": [
            "The colors are red green blue  \n"
          ]
        }
      ]
    },
    {
      "cell_type": "code",
      "source": [
        "print('The colors are {0} {1} {2} '.format('red', 'green', 'blue '))"
      ],
      "metadata": {
        "colab": {
          "base_uri": "https://localhost:8080/"
        },
        "id": "0xRC4AxNHdiQ",
        "outputId": "6d66acd0-2ab3-4f31-fd7f-fb5e0518dee7"
      },
      "execution_count": 123,
      "outputs": [
        {
          "output_type": "stream",
          "name": "stdout",
          "text": [
            "The colors are red green blue  \n"
          ]
        }
      ]
    },
    {
      "cell_type": "code",
      "source": [
        "print('The colors are {r} {r} {r} '.format(r = 'red', g = 'green', b = 'blue '))"
      ],
      "metadata": {
        "colab": {
          "base_uri": "https://localhost:8080/"
        },
        "id": "crr1HI5HHnKL",
        "outputId": "7a585006-691d-4e58-8ae1-2c76ccc74789"
      },
      "execution_count": 126,
      "outputs": [
        {
          "output_type": "stream",
          "name": "stdout",
          "text": [
            "The colors are red red red \n"
          ]
        }
      ]
    },
    {
      "cell_type": "code",
      "source": [
        "pi = 3.1415"
      ],
      "metadata": {
        "id": "AcLCS0bkIKWO"
      },
      "execution_count": 129,
      "outputs": []
    },
    {
      "cell_type": "code",
      "source": [
        "print('The value of pi is {}'.format(pi))"
      ],
      "metadata": {
        "colab": {
          "base_uri": "https://localhost:8080/"
        },
        "id": "vpr-4c9bHqeV",
        "outputId": "74eeb206-1950-4c14-994e-7c4582fa159c"
      },
      "execution_count": 130,
      "outputs": [
        {
          "output_type": "stream",
          "name": "stdout",
          "text": [
            "The value of pi is 3.1415\n"
          ]
        }
      ]
    },
    {
      "cell_type": "code",
      "source": [
        "print(f\"The value of pi is (pi)\")"
      ],
      "metadata": {
        "colab": {
          "base_uri": "https://localhost:8080/"
        },
        "id": "RtROvMYJH_y6",
        "outputId": "2e1f555b-d5dd-4365-ccb8-b420ecc12802"
      },
      "execution_count": 132,
      "outputs": [
        {
          "output_type": "stream",
          "name": "stdout",
          "text": [
            "The value of pi is (pi)\n"
          ]
        }
      ]
    },
    {
      "cell_type": "code",
      "source": [
        ""
      ],
      "metadata": {
        "id": "VERu_KmdIU39"
      },
      "execution_count": null,
      "outputs": []
    }
  ]
}