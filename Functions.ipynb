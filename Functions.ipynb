{
  "nbformat": 4,
  "nbformat_minor": 0,
  "metadata": {
    "colab": {
      "name": "Functions.ipynb",
      "provenance": [],
      "collapsed_sections": [],
      "authorship_tag": "ABX9TyNw50hNmQFkukVjiBu0awyG",
      "include_colab_link": true
    },
    "kernelspec": {
      "name": "python3",
      "display_name": "Python 3"
    },
    "language_info": {
      "name": "python"
    }
  },
  "cells": [
    {
      "cell_type": "markdown",
      "metadata": {
        "id": "view-in-github",
        "colab_type": "text"
      },
      "source": [
        "<a href=\"https://colab.research.google.com/github/Justinr2940/Summer-Micro-Credential/blob/main/Functions.ipynb\" target=\"_parent\"><img src=\"https://colab.research.google.com/assets/colab-badge.svg\" alt=\"Open In Colab\"/></a>"
      ]
    },
    {
      "cell_type": "markdown",
      "source": [
        "#Intro to python IV"
      ],
      "metadata": {
        "id": "Qx-avQM8XPF-"
      }
    },
    {
      "cell_type": "markdown",
      "source": [
        "##Functions!"
      ],
      "metadata": {
        "id": "2q92IgswXYku"
      }
    },
    {
      "cell_type": "markdown",
      "source": [
        "###How to define functions"
      ],
      "metadata": {
        "id": "qnhq-D9zXdnW"
      }
    },
    {
      "cell_type": "code",
      "source": [
        "\"\"\"\n",
        "'def' name_of_function():\n",
        "    What ever it does\n",
        "\"\"\""
      ],
      "metadata": {
        "id": "A1Lg-_mUXfLK"
      },
      "execution_count": null,
      "outputs": []
    },
    {
      "cell_type": "code",
      "source": [
        "def my_function():\n",
        "  print(\"Hi there\")"
      ],
      "metadata": {
        "id": "AHxuJ7IEXe7D"
      },
      "execution_count": 1,
      "outputs": []
    },
    {
      "cell_type": "code",
      "source": [
        "type(my_function)"
      ],
      "metadata": {
        "colab": {
          "base_uri": "https://localhost:8080/"
        },
        "id": "b3fNLlpCXetP",
        "outputId": "1f026687-c184-4025-a782-04a0ad357c09"
      },
      "execution_count": 2,
      "outputs": [
        {
          "output_type": "execute_result",
          "data": {
            "text/plain": [
              "function"
            ]
          },
          "metadata": {},
          "execution_count": 2
        }
      ]
    },
    {
      "cell_type": "code",
      "source": [
        "my_function#will not execute without parenthesis"
      ],
      "metadata": {
        "colab": {
          "base_uri": "https://localhost:8080/"
        },
        "id": "kRjJVF5eXeqm",
        "outputId": "2a2ccdb4-640f-45ba-d026-1e56e7f5b46f"
      },
      "execution_count": 3,
      "outputs": [
        {
          "output_type": "execute_result",
          "data": {
            "text/plain": [
              "<function __main__.my_function>"
            ]
          },
          "metadata": {},
          "execution_count": 3
        }
      ]
    },
    {
      "cell_type": "code",
      "source": [
        "my_function()"
      ],
      "metadata": {
        "colab": {
          "base_uri": "https://localhost:8080/"
        },
        "id": "j6taCZjtZNOV",
        "outputId": "80c79360-175b-4216-d48c-1165c8b0aa4b"
      },
      "execution_count": 6,
      "outputs": [
        {
          "output_type": "stream",
          "name": "stdout",
          "text": [
            "Hi there\n"
          ]
        }
      ]
    },
    {
      "cell_type": "code",
      "source": [
        "help(my_function)"
      ],
      "metadata": {
        "colab": {
          "base_uri": "https://localhost:8080/"
        },
        "id": "gfYdkxAlZUV0",
        "outputId": "18e2b92f-69b0-4762-8781-e25571b14c62"
      },
      "execution_count": 7,
      "outputs": [
        {
          "output_type": "stream",
          "name": "stdout",
          "text": [
            "Help on function my_function in module __main__:\n",
            "\n",
            "my_function()\n",
            "\n"
          ]
        }
      ]
    },
    {
      "cell_type": "code",
      "source": [
        "def my_function():\n",
        "  \"\"\"\n",
        "  Always include a doc screen for functions\n",
        "  created by: ????\n",
        "  Input: none\n",
        "  output: Hello\n",
        "  \"\"\"\n",
        "  print(\"hello\")\n"
      ],
      "metadata": {
        "id": "mKnltHIKZc86"
      },
      "execution_count": 8,
      "outputs": []
    },
    {
      "cell_type": "code",
      "source": [
        "my_function()"
      ],
      "metadata": {
        "colab": {
          "base_uri": "https://localhost:8080/"
        },
        "id": "NYw48iLbZ_6x",
        "outputId": "ed24433a-80ba-4014-8e89-67c988e52df9"
      },
      "execution_count": 9,
      "outputs": [
        {
          "output_type": "stream",
          "name": "stdout",
          "text": [
            "hello\n"
          ]
        }
      ]
    },
    {
      "cell_type": "code",
      "source": [
        "help(my_function)"
      ],
      "metadata": {
        "colab": {
          "base_uri": "https://localhost:8080/"
        },
        "id": "Jg_uyaA9aC0r",
        "outputId": "e5ffab7b-7c00-4a96-cb1d-18ded3af1df7"
      },
      "execution_count": 10,
      "outputs": [
        {
          "output_type": "stream",
          "name": "stdout",
          "text": [
            "Help on function my_function in module __main__:\n",
            "\n",
            "my_function()\n",
            "    Always include a doc screen for functions\n",
            "    created by: ????\n",
            "    Input: none\n",
            "    output: Hello\n",
            "\n"
          ]
        }
      ]
    },
    {
      "cell_type": "code",
      "source": [
        "def greetings(name):#function that takes an input\n",
        "  \"\"\"\n",
        "  Always include a doc screen for functions\n",
        "  created by: ????\n",
        "  Input: none\n",
        "  output: Hello\n",
        "  \"\"\"\n",
        "  print(\"Good afternoon \" + name)"
      ],
      "metadata": {
        "id": "dpKbGlHcaF19"
      },
      "execution_count": 16,
      "outputs": []
    },
    {
      "cell_type": "code",
      "source": [
        "greetings(\"John\")"
      ],
      "metadata": {
        "colab": {
          "base_uri": "https://localhost:8080/"
        },
        "id": "3PTc0wmPaoe-",
        "outputId": "72280784-ed5d-4a9a-c127-f45385389a65"
      },
      "execution_count": 17,
      "outputs": [
        {
          "output_type": "stream",
          "name": "stdout",
          "text": [
            "Good afternoon John\n"
          ]
        }
      ]
    },
    {
      "cell_type": "code",
      "source": [
        "def greetings2(name = 'John'):\n",
        "  \"\"\"\n",
        "  Always include a doc screen for functions\n",
        "  created by: ????\n",
        "  Input: none\n",
        "  output: Hello\n",
        "  \"\"\"\n",
        "  print(\"Good afternoon \" + name)"
      ],
      "metadata": {
        "id": "KuSc9TIvasLD"
      },
      "execution_count": 18,
      "outputs": []
    },
    {
      "cell_type": "code",
      "source": [
        "greetings2(\"Tom\")"
      ],
      "metadata": {
        "colab": {
          "base_uri": "https://localhost:8080/"
        },
        "id": "CF8UCxribKRf",
        "outputId": "1f69d2ab-0da1-444d-bbb8-f1165ab2a52d"
      },
      "execution_count": 19,
      "outputs": [
        {
          "output_type": "stream",
          "name": "stdout",
          "text": [
            "Good afternoon Tom\n"
          ]
        }
      ]
    },
    {
      "cell_type": "code",
      "source": [
        "name = input(\"Enter your name: \")\n",
        "greetings2(name)"
      ],
      "metadata": {
        "colab": {
          "base_uri": "https://localhost:8080/"
        },
        "id": "PdvS43z5bOUH",
        "outputId": "ed6b09ff-449f-479e-f207-43039dfe71be"
      },
      "execution_count": 21,
      "outputs": [
        {
          "output_type": "stream",
          "name": "stdout",
          "text": [
            "Enter your name: Justin\n",
            "Good afternoon Justin\n"
          ]
        }
      ]
    },
    {
      "cell_type": "code",
      "source": [
        "def add(n1, n2):\n",
        "  return n1+n2"
      ],
      "metadata": {
        "id": "pZt1ZP58bVA_"
      },
      "execution_count": 22,
      "outputs": []
    },
    {
      "cell_type": "code",
      "source": [
        "add(12, 89)"
      ],
      "metadata": {
        "colab": {
          "base_uri": "https://localhost:8080/"
        },
        "id": "NNsF40UTb1Bk",
        "outputId": "f4729822-fabb-4b57-dcd8-53aa32437ac5"
      },
      "execution_count": 23,
      "outputs": [
        {
          "output_type": "execute_result",
          "data": {
            "text/plain": [
              "101"
            ]
          },
          "metadata": {},
          "execution_count": 23
        }
      ]
    },
    {
      "cell_type": "code",
      "source": [
        "def even_numbers(n):\n",
        "  \"\"\"\n",
        "  Description:\n",
        "  created by:  The Khan\n",
        "  Input: List of numbers\n",
        "  output: Even numbers from list\n",
        "  \"\"\"\n",
        "  num = []\n",
        "  for i in n:\n",
        "    if i % 2 == 0:\n",
        "      num.append(i)\n",
        "  return(num)"
      ],
      "metadata": {
        "id": "2WDEibnfb4SW"
      },
      "execution_count": 25,
      "outputs": []
    },
    {
      "cell_type": "code",
      "source": [
        "help(even_numbers)"
      ],
      "metadata": {
        "colab": {
          "base_uri": "https://localhost:8080/"
        },
        "id": "zqDs2kaIcuYQ",
        "outputId": "92e04465-220c-42b4-ec75-4926f19cb3e3"
      },
      "execution_count": 26,
      "outputs": [
        {
          "output_type": "stream",
          "name": "stdout",
          "text": [
            "Help on function even_numbers in module __main__:\n",
            "\n",
            "even_numbers(n)\n",
            "    Description:\n",
            "    created by:  The Khan\n",
            "    Input: List of numbers\n",
            "    output: Even numbers from list\n",
            "\n"
          ]
        }
      ]
    },
    {
      "cell_type": "code",
      "source": [
        "even_numbers([23, 56, 90, 33, 8, 7, 4, 7890])"
      ],
      "metadata": {
        "colab": {
          "base_uri": "https://localhost:8080/"
        },
        "id": "r_trXGj_cz3f",
        "outputId": "bd3ff259-611d-4f41-863d-039fbf16b004"
      },
      "execution_count": 28,
      "outputs": [
        {
          "output_type": "execute_result",
          "data": {
            "text/plain": [
              "[56, 90, 8, 4, 7890]"
            ]
          },
          "metadata": {},
          "execution_count": 28
        }
      ]
    },
    {
      "cell_type": "code",
      "source": [
        "even_numbers([23,  33,  7])"
      ],
      "metadata": {
        "colab": {
          "base_uri": "https://localhost:8080/"
        },
        "id": "WnPM86Z-dEST",
        "outputId": "455e35de-0a18-44dc-d5bd-5f44255d09f8"
      },
      "execution_count": 30,
      "outputs": [
        {
          "output_type": "execute_result",
          "data": {
            "text/plain": [
              "[]"
            ]
          },
          "metadata": {},
          "execution_count": 30
        }
      ]
    },
    {
      "cell_type": "code",
      "source": [
        "def odd_numbers(n):\n",
        "  \"\"\"\n",
        "  Description:\n",
        "  created by:  \n",
        "  Input: List of numbers\n",
        "  output: odd numbers from list\n",
        "  \"\"\"\n",
        "  num = []\n",
        "  for i in n:\n",
        "    if i % 2 == 1:\n",
        "      num.append(i)\n",
        "  return(num)"
      ],
      "metadata": {
        "id": "xq_yGXFJdPY5"
      },
      "execution_count": 31,
      "outputs": []
    },
    {
      "cell_type": "code",
      "source": [
        "help(odd_numbers)"
      ],
      "metadata": {
        "colab": {
          "base_uri": "https://localhost:8080/"
        },
        "id": "SJEKNJXsdzR-",
        "outputId": "1c557167-c8c5-454c-a917-49f21f10377e"
      },
      "execution_count": 32,
      "outputs": [
        {
          "output_type": "stream",
          "name": "stdout",
          "text": [
            "Help on function odd_numbers in module __main__:\n",
            "\n",
            "odd_numbers(n)\n",
            "    Description:\n",
            "    created by:  \n",
            "    Input: List of numbers\n",
            "    output: odd numbers from list\n",
            "\n"
          ]
        }
      ]
    },
    {
      "cell_type": "code",
      "source": [
        "odd_numbers([1, 6, 2, 3, 11, 14, 13])"
      ],
      "metadata": {
        "colab": {
          "base_uri": "https://localhost:8080/"
        },
        "id": "E-xJDjk9d25B",
        "outputId": "5c92a682-f9db-408b-8f84-9cd242b33253"
      },
      "execution_count": 33,
      "outputs": [
        {
          "output_type": "execute_result",
          "data": {
            "text/plain": [
              "[1, 3, 11, 13]"
            ]
          },
          "metadata": {},
          "execution_count": 33
        }
      ]
    },
    {
      "cell_type": "code",
      "source": [
        ""
      ],
      "metadata": {
        "id": "pwSXF1fId8Qo"
      },
      "execution_count": null,
      "outputs": []
    }
  ]
}