{
  "nbformat": 4,
  "nbformat_minor": 0,
  "metadata": {
    "colab": {
      "name": " Homework 1.ipynb",
      "provenance": [],
      "collapsed_sections": [],
      "include_colab_link": true
    },
    "kernelspec": {
      "name": "python3",
      "display_name": "Python 3"
    },
    "language_info": {
      "name": "python"
    }
  },
  "cells": [
    {
      "cell_type": "markdown",
      "metadata": {
        "id": "view-in-github",
        "colab_type": "text"
      },
      "source": [
        "<a href=\"https://colab.research.google.com/github/Justinr2940/Summer-Micro-Credential/blob/main/Homework_1.ipynb\" target=\"_parent\"><img src=\"https://colab.research.google.com/assets/colab-badge.svg\" alt=\"Open In Colab\"/></a>"
      ]
    },
    {
      "cell_type": "markdown",
      "source": [
        "# Answer all the questions!"
      ],
      "metadata": {
        "id": "FkJsXd8D06Rp"
      }
    },
    {
      "cell_type": "markdown",
      "source": [
        "##Write a Python program to get the volume of a sphere with radius 6"
      ],
      "metadata": {
        "id": "elOgKZR009ex"
      }
    },
    {
      "cell_type": "code",
      "source": [
        "def volume_Sphere(r):\n",
        "  \"\"\"\n",
        "  created by: Justin\n",
        "  Input: radius of sphere\n",
        "  output:The volume of the sphere\n",
        "  \"\"\"\n",
        "  pi = 3.1415 #Define pi\n",
        "  volume = (4/3)*(pi)*r #Create formula for volume of sphere\n",
        "  return(volume)\n"
      ],
      "metadata": {
        "id": "YbhKO6Cs09av"
      },
      "execution_count": 3,
      "outputs": []
    },
    {
      "cell_type": "code",
      "source": [
        "volume_Sphere(6)"
      ],
      "metadata": {
        "colab": {
          "base_uri": "https://localhost:8080/"
        },
        "id": "Tx5M2Re2J8L9",
        "outputId": "6e476ea6-ae8b-4ce1-e1df-713692145a70"
      },
      "execution_count": 4,
      "outputs": [
        {
          "output_type": "execute_result",
          "data": {
            "text/plain": [
              "25.131999999999998"
            ]
          },
          "metadata": {},
          "execution_count": 4
        }
      ]
    },
    {
      "cell_type": "markdown",
      "source": [
        "##Write a Python program to find whether a given number (accept from the user) is even or odd"
      ],
      "metadata": {
        "id": "OuX7aazu09X1"
      }
    },
    {
      "cell_type": "code",
      "source": [
        "def even_or_odd(num):\n",
        "  \"\"\"\n",
        "  created by: Justin\n",
        "  Input: A number\n",
        "  output:Whether the number is even or odd\n",
        "  \"\"\"\n",
        "  if num%2 == 0: # conditional statement to determine even number\n",
        "    print('The number entered is even')\n",
        "  else:\n",
        "    print('The number entered is odd')\n",
        "\n",
        "num = input(\"Please enter a number: \") #ask for user input\n",
        "even_or_odd(int(num))#Call even or odd function"
      ],
      "metadata": {
        "id": "vcYhNNaU09Uz",
        "colab": {
          "base_uri": "https://localhost:8080/"
        },
        "outputId": "b0eeeb98-345d-4c16-98ad-df05ddaf7e4b"
      },
      "execution_count": 19,
      "outputs": [
        {
          "output_type": "stream",
          "name": "stdout",
          "text": [
            "Please enter a number: 8\n",
            "The number entered is even\n"
          ]
        }
      ]
    },
    {
      "cell_type": "markdown",
      "source": [
        "##Write a Python program to count the number 4 in a given list"
      ],
      "metadata": {
        "id": "NP5TZKqO09Rr"
      }
    },
    {
      "cell_type": "code",
      "source": [
        "def count_four(n = []):\n",
        "  \"\"\"\n",
        "  created by: Justin\n",
        "  Input: list\n",
        "  output:Counts the number 4 in a given list\n",
        "  \"\"\"\n",
        "  count = 0 \n",
        "  for i in n:\n",
        "    if i == 4:\n",
        "      count = count +1\n",
        "  return (count)\n",
        "\n",
        "list1 = [2, 4, 5, 1, 4, 6, 4, 4, 10, 11, 4]\n",
        "count_four(list1)"
      ],
      "metadata": {
        "id": "oWZ3vTfW09Oh",
        "colab": {
          "base_uri": "https://localhost:8080/"
        },
        "outputId": "601f3a96-a5c8-4510-e346-768904440b5e"
      },
      "execution_count": 21,
      "outputs": [
        {
          "output_type": "execute_result",
          "data": {
            "text/plain": [
              "5"
            ]
          },
          "metadata": {},
          "execution_count": 21
        }
      ]
    },
    {
      "cell_type": "markdown",
      "source": [
        "##Write a Python program that will accept the base and height of a triangle and compute the area"
      ],
      "metadata": {
        "id": "IK0FvUoa1MJG"
      }
    },
    {
      "cell_type": "code",
      "source": [
        "base = input('Please enter the base of the triangle') # Ask user to input base\n",
        "height = input('please enter the height of the triangle') # Ask user to input height\n",
        "\n",
        "def area_triangle(b, h):\n",
        "  \"\"\"\n",
        "  created by: Justin\n",
        "  Input: base and height of triangle\n",
        "  output:The area of the triangle\n",
        "  \"\"\"\n",
        "  area = (b*h)/2 #The formula for the area of the triangle\n",
        "  return(area) #return the area\n",
        "\n",
        "area_triangle(int(base),int(height)) #Call the function using the inputed base and height\n"
      ],
      "metadata": {
        "id": "G02dv4rh1MFs",
        "colab": {
          "base_uri": "https://localhost:8080/"
        },
        "outputId": "1a23c657-d646-4184-91fd-b4bd39b42579"
      },
      "execution_count": 22,
      "outputs": [
        {
          "name": "stdout",
          "output_type": "stream",
          "text": [
            "Please enter the base of the triangle3\n",
            "please enter the height of the triangle4\n"
          ]
        },
        {
          "output_type": "execute_result",
          "data": {
            "text/plain": [
              "6.0"
            ]
          },
          "metadata": {},
          "execution_count": 22
        }
      ]
    },
    {
      "cell_type": "markdown",
      "source": [
        "##Write a Python program to convert the distance (in feet) to inches, yards, and miles."
      ],
      "metadata": {
        "id": "sOkeycZk1L5-"
      }
    },
    {
      "cell_type": "code",
      "source": [
        "feet = input('Please enter the distance in feet: ')\n",
        "print(\"The distance in feet is \"+ feet+'ft')\n",
        "def feet_conversions(n):\n",
        "  \"\"\"\n",
        "  created by: Justin\n",
        "  Input: distance in feet\n",
        "  output:The distance in inches, yards and miles\n",
        "  \"\"\"\n",
        "  inches = n * 12\n",
        "  yards = (n/3)\n",
        "  miles = (n/5280)\n",
        "  print(\"The distance in inches is \" + str(inches) + 'in' )\n",
        "  print(\"The distance in yards is \" + str(yards) + 'y' )\n",
        "  print(\"The distance in miles is \" + str(miles) + 'mi' )\n",
        "\n",
        "feet_conversions(int(feet))"
      ],
      "metadata": {
        "id": "YtW-ZxqB1L2c",
        "colab": {
          "base_uri": "https://localhost:8080/"
        },
        "outputId": "0461c2a1-18af-4dfc-d2dd-f6780df0a4e7"
      },
      "execution_count": 28,
      "outputs": [
        {
          "output_type": "stream",
          "name": "stdout",
          "text": [
            "Please enter the distance in feet: 5280\n",
            "The distance in feet is 5280ft\n",
            "The distance in inches is 63360in\n",
            "The distance in yards is 1760.0y\n",
            "The distance in miles is 1.0mi\n"
          ]
        }
      ]
    },
    {
      "cell_type": "code",
      "source": [
        ""
      ],
      "metadata": {
        "id": "sSlXUENlVXUo"
      },
      "execution_count": 28,
      "outputs": []
    }
  ]
}